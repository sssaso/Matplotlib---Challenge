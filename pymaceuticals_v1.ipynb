{
 "cells": [
  {
   "cell_type": "markdown",
   "metadata": {},
   "source": [
    "## Observations and Insights "
   ]
  },
  {
   "cell_type": "markdown",
   "metadata": {},
   "source": []
  },
  {
   "cell_type": "code",
   "execution_count": 43,
   "metadata": {},
   "outputs": [
    {
     "data": {
      "text/plain": [
       "g989    13\n",
       "a963    10\n",
       "p189    10\n",
       "x402    10\n",
       "a262    10\n",
       "        ..\n",
       "h428     1\n",
       "f932     1\n",
       "n482     1\n",
       "u153     1\n",
       "v199     1\n",
       "Name: Mouse ID, Length: 249, dtype: int64"
      ]
     },
     "execution_count": 43,
     "metadata": {},
     "output_type": "execute_result"
    }
   ],
   "source": [
    "# Dependencies and Setup\n",
    "\n",
    "%config IPCompleter.greedy=True\n",
    "\n",
    "import matplotlib.pyplot as plt\n",
    "import pandas as pd\n",
    "import numpy as np\n",
    "import scipy.stats as st\n",
    "\n",
    "# Study data files\n",
    "mouse_metadata_path = \"data/Mouse_metadata.csv\"\n",
    "study_results_path = \"data/Study_results.csv\"\n",
    "\n",
    "# Read the mouse data and the study results\n",
    "mouse_metadata = pd.read_csv(mouse_metadata_path)\n",
    "study_results = pd.read_csv(study_results_path)\n",
    "\n",
    "# Combine the data into a single dataset\n",
    "# mouse_metadata = mouse_metadata.merge(study_results, on = \"Mouse ID\", how=\"inner\")\n",
    "combined_df = pd.merge(mouse_metadata,study_results, on = \"Mouse ID\")\n",
    "combined_df[\"Mouse ID\"].value_counts()"
   ]
  },
  {
   "cell_type": "code",
   "execution_count": 44,
   "metadata": {},
   "outputs": [
    {
     "data": {
      "text/html": [
       "<div>\n",
       "<style scoped>\n",
       "    .dataframe tbody tr th:only-of-type {\n",
       "        vertical-align: middle;\n",
       "    }\n",
       "\n",
       "    .dataframe tbody tr th {\n",
       "        vertical-align: top;\n",
       "    }\n",
       "\n",
       "    .dataframe thead th {\n",
       "        text-align: right;\n",
       "    }\n",
       "</style>\n",
       "<table border=\"1\" class=\"dataframe\">\n",
       "  <thead>\n",
       "    <tr style=\"text-align: right;\">\n",
       "      <th></th>\n",
       "      <th>Mouse ID</th>\n",
       "      <th>Drug Regimen</th>\n",
       "      <th>Sex</th>\n",
       "      <th>Age_months</th>\n",
       "      <th>Weight (g)</th>\n",
       "      <th>Timepoint</th>\n",
       "      <th>Tumor Volume (mm3)</th>\n",
       "      <th>Metastatic Sites</th>\n",
       "    </tr>\n",
       "  </thead>\n",
       "  <tbody>\n",
       "    <tr>\n",
       "      <th>0</th>\n",
       "      <td>k403</td>\n",
       "      <td>Ramicane</td>\n",
       "      <td>Male</td>\n",
       "      <td>21</td>\n",
       "      <td>16</td>\n",
       "      <td>0</td>\n",
       "      <td>45.000000</td>\n",
       "      <td>0</td>\n",
       "    </tr>\n",
       "    <tr>\n",
       "      <th>1</th>\n",
       "      <td>k403</td>\n",
       "      <td>Ramicane</td>\n",
       "      <td>Male</td>\n",
       "      <td>21</td>\n",
       "      <td>16</td>\n",
       "      <td>5</td>\n",
       "      <td>38.825898</td>\n",
       "      <td>0</td>\n",
       "    </tr>\n",
       "    <tr>\n",
       "      <th>2</th>\n",
       "      <td>k403</td>\n",
       "      <td>Ramicane</td>\n",
       "      <td>Male</td>\n",
       "      <td>21</td>\n",
       "      <td>16</td>\n",
       "      <td>10</td>\n",
       "      <td>35.014271</td>\n",
       "      <td>1</td>\n",
       "    </tr>\n",
       "    <tr>\n",
       "      <th>3</th>\n",
       "      <td>k403</td>\n",
       "      <td>Ramicane</td>\n",
       "      <td>Male</td>\n",
       "      <td>21</td>\n",
       "      <td>16</td>\n",
       "      <td>15</td>\n",
       "      <td>34.223992</td>\n",
       "      <td>1</td>\n",
       "    </tr>\n",
       "    <tr>\n",
       "      <th>4</th>\n",
       "      <td>k403</td>\n",
       "      <td>Ramicane</td>\n",
       "      <td>Male</td>\n",
       "      <td>21</td>\n",
       "      <td>16</td>\n",
       "      <td>20</td>\n",
       "      <td>32.997729</td>\n",
       "      <td>1</td>\n",
       "    </tr>\n",
       "    <tr>\n",
       "      <th>...</th>\n",
       "      <td>...</td>\n",
       "      <td>...</td>\n",
       "      <td>...</td>\n",
       "      <td>...</td>\n",
       "      <td>...</td>\n",
       "      <td>...</td>\n",
       "      <td>...</td>\n",
       "      <td>...</td>\n",
       "    </tr>\n",
       "    <tr>\n",
       "      <th>1888</th>\n",
       "      <td>z969</td>\n",
       "      <td>Naftisol</td>\n",
       "      <td>Male</td>\n",
       "      <td>9</td>\n",
       "      <td>30</td>\n",
       "      <td>25</td>\n",
       "      <td>63.145652</td>\n",
       "      <td>2</td>\n",
       "    </tr>\n",
       "    <tr>\n",
       "      <th>1889</th>\n",
       "      <td>z969</td>\n",
       "      <td>Naftisol</td>\n",
       "      <td>Male</td>\n",
       "      <td>9</td>\n",
       "      <td>30</td>\n",
       "      <td>30</td>\n",
       "      <td>65.841013</td>\n",
       "      <td>3</td>\n",
       "    </tr>\n",
       "    <tr>\n",
       "      <th>1890</th>\n",
       "      <td>z969</td>\n",
       "      <td>Naftisol</td>\n",
       "      <td>Male</td>\n",
       "      <td>9</td>\n",
       "      <td>30</td>\n",
       "      <td>35</td>\n",
       "      <td>69.176246</td>\n",
       "      <td>4</td>\n",
       "    </tr>\n",
       "    <tr>\n",
       "      <th>1891</th>\n",
       "      <td>z969</td>\n",
       "      <td>Naftisol</td>\n",
       "      <td>Male</td>\n",
       "      <td>9</td>\n",
       "      <td>30</td>\n",
       "      <td>40</td>\n",
       "      <td>70.314904</td>\n",
       "      <td>4</td>\n",
       "    </tr>\n",
       "    <tr>\n",
       "      <th>1892</th>\n",
       "      <td>z969</td>\n",
       "      <td>Naftisol</td>\n",
       "      <td>Male</td>\n",
       "      <td>9</td>\n",
       "      <td>30</td>\n",
       "      <td>45</td>\n",
       "      <td>73.867845</td>\n",
       "      <td>4</td>\n",
       "    </tr>\n",
       "  </tbody>\n",
       "</table>\n",
       "<p>1893 rows × 8 columns</p>\n",
       "</div>"
      ],
      "text/plain": [
       "     Mouse ID Drug Regimen   Sex  Age_months  Weight (g)  Timepoint  \\\n",
       "0        k403     Ramicane  Male          21          16          0   \n",
       "1        k403     Ramicane  Male          21          16          5   \n",
       "2        k403     Ramicane  Male          21          16         10   \n",
       "3        k403     Ramicane  Male          21          16         15   \n",
       "4        k403     Ramicane  Male          21          16         20   \n",
       "...       ...          ...   ...         ...         ...        ...   \n",
       "1888     z969     Naftisol  Male           9          30         25   \n",
       "1889     z969     Naftisol  Male           9          30         30   \n",
       "1890     z969     Naftisol  Male           9          30         35   \n",
       "1891     z969     Naftisol  Male           9          30         40   \n",
       "1892     z969     Naftisol  Male           9          30         45   \n",
       "\n",
       "      Tumor Volume (mm3)  Metastatic Sites  \n",
       "0              45.000000                 0  \n",
       "1              38.825898                 0  \n",
       "2              35.014271                 1  \n",
       "3              34.223992                 1  \n",
       "4              32.997729                 1  \n",
       "...                  ...               ...  \n",
       "1888           63.145652                 2  \n",
       "1889           65.841013                 3  \n",
       "1890           69.176246                 4  \n",
       "1891           70.314904                 4  \n",
       "1892           73.867845                 4  \n",
       "\n",
       "[1893 rows x 8 columns]"
      ]
     },
     "execution_count": 44,
     "metadata": {},
     "output_type": "execute_result"
    }
   ],
   "source": [
    "combined_df"
   ]
  },
  {
   "cell_type": "code",
   "execution_count": 45,
   "metadata": {},
   "outputs": [
    {
     "data": {
      "text/plain": [
       "g989    13\n",
       "a963    10\n",
       "p189    10\n",
       "x402    10\n",
       "a262    10\n",
       "        ..\n",
       "h428     1\n",
       "f932     1\n",
       "n482     1\n",
       "u153     1\n",
       "v199     1\n",
       "Name: Mouse ID, Length: 249, dtype: int64"
      ]
     },
     "execution_count": 45,
     "metadata": {},
     "output_type": "execute_result"
    }
   ],
   "source": [
    "# Checking the number of mice in the DataFrame.\n",
    "combined_df[\"Mouse ID\"].nunique()\n",
    "combined_df[\"Mouse ID\"].value_counts()"
   ]
  },
  {
   "cell_type": "code",
   "execution_count": 46,
   "metadata": {},
   "outputs": [
    {
     "data": {
      "text/html": [
       "<div>\n",
       "<style scoped>\n",
       "    .dataframe tbody tr th:only-of-type {\n",
       "        vertical-align: middle;\n",
       "    }\n",
       "\n",
       "    .dataframe tbody tr th {\n",
       "        vertical-align: top;\n",
       "    }\n",
       "\n",
       "    .dataframe thead th {\n",
       "        text-align: right;\n",
       "    }\n",
       "</style>\n",
       "<table border=\"1\" class=\"dataframe\">\n",
       "  <thead>\n",
       "    <tr style=\"text-align: right;\">\n",
       "      <th></th>\n",
       "      <th>Mouse ID</th>\n",
       "      <th>Drug Regimen</th>\n",
       "      <th>Sex</th>\n",
       "      <th>Age_months</th>\n",
       "      <th>Weight (g)</th>\n",
       "      <th>Timepoint</th>\n",
       "      <th>Tumor Volume (mm3)</th>\n",
       "      <th>Metastatic Sites</th>\n",
       "    </tr>\n",
       "  </thead>\n",
       "  <tbody>\n",
       "    <tr>\n",
       "      <th>909</th>\n",
       "      <td>g989</td>\n",
       "      <td>Propriva</td>\n",
       "      <td>Female</td>\n",
       "      <td>21</td>\n",
       "      <td>26</td>\n",
       "      <td>0</td>\n",
       "      <td>45.000000</td>\n",
       "      <td>0</td>\n",
       "    </tr>\n",
       "    <tr>\n",
       "      <th>911</th>\n",
       "      <td>g989</td>\n",
       "      <td>Propriva</td>\n",
       "      <td>Female</td>\n",
       "      <td>21</td>\n",
       "      <td>26</td>\n",
       "      <td>5</td>\n",
       "      <td>47.570392</td>\n",
       "      <td>0</td>\n",
       "    </tr>\n",
       "    <tr>\n",
       "      <th>913</th>\n",
       "      <td>g989</td>\n",
       "      <td>Propriva</td>\n",
       "      <td>Female</td>\n",
       "      <td>21</td>\n",
       "      <td>26</td>\n",
       "      <td>10</td>\n",
       "      <td>49.880528</td>\n",
       "      <td>0</td>\n",
       "    </tr>\n",
       "    <tr>\n",
       "      <th>915</th>\n",
       "      <td>g989</td>\n",
       "      <td>Propriva</td>\n",
       "      <td>Female</td>\n",
       "      <td>21</td>\n",
       "      <td>26</td>\n",
       "      <td>15</td>\n",
       "      <td>53.442020</td>\n",
       "      <td>0</td>\n",
       "    </tr>\n",
       "    <tr>\n",
       "      <th>917</th>\n",
       "      <td>g989</td>\n",
       "      <td>Propriva</td>\n",
       "      <td>Female</td>\n",
       "      <td>21</td>\n",
       "      <td>26</td>\n",
       "      <td>20</td>\n",
       "      <td>54.657650</td>\n",
       "      <td>1</td>\n",
       "    </tr>\n",
       "  </tbody>\n",
       "</table>\n",
       "</div>"
      ],
      "text/plain": [
       "    Mouse ID Drug Regimen     Sex  Age_months  Weight (g)  Timepoint  \\\n",
       "909     g989     Propriva  Female          21          26          0   \n",
       "911     g989     Propriva  Female          21          26          5   \n",
       "913     g989     Propriva  Female          21          26         10   \n",
       "915     g989     Propriva  Female          21          26         15   \n",
       "917     g989     Propriva  Female          21          26         20   \n",
       "\n",
       "     Tumor Volume (mm3)  Metastatic Sites  \n",
       "909           45.000000                 0  \n",
       "911           47.570392                 0  \n",
       "913           49.880528                 0  \n",
       "915           53.442020                 0  \n",
       "917           54.657650                 1  "
      ]
     },
     "execution_count": 46,
     "metadata": {},
     "output_type": "execute_result"
    }
   ],
   "source": [
    "# Getting the duplicate mice by ID number that shows up for Mouse ID and Timepoint. \n",
    "dup=combined_df[combined_df.duplicated([\"Mouse ID\", \"Timepoint\"],keep ='first')]\n",
    "dup\n",
    "#dup2=combined_df.duplicated([\"Mouse ID\", \"Timepoint\"],keep ='first') --> return Boolean series\n",
    "# Optional: Get all the data for the duplicate mouse ID. "
   ]
  },
  {
   "cell_type": "code",
   "execution_count": 47,
   "metadata": {},
   "outputs": [],
   "source": [
    "# Create a clean DataFrame by dropping the duplicate mouse by its ID.\n",
    "combined_clean_df=combined_df.drop_duplicates([\"Mouse ID\", \"Timepoint\"],keep ='first')"
   ]
  },
  {
   "cell_type": "code",
   "execution_count": 48,
   "metadata": {},
   "outputs": [
    {
     "data": {
      "text/plain": [
       "a963    10\n",
       "c757    10\n",
       "x402    10\n",
       "a262    10\n",
       "l897    10\n",
       "        ..\n",
       "h428     1\n",
       "f932     1\n",
       "n482     1\n",
       "u153     1\n",
       "v199     1\n",
       "Name: Mouse ID, Length: 249, dtype: int64"
      ]
     },
     "execution_count": 48,
     "metadata": {},
     "output_type": "execute_result"
    }
   ],
   "source": [
    "# Checking the number of mice in the clean DataFrame.\n",
    "combined_clean_df[\"Mouse ID\"].value_counts()"
   ]
  },
  {
   "cell_type": "markdown",
   "metadata": {},
   "source": [
    "## Summary Statistics"
   ]
  },
  {
   "cell_type": "code",
   "execution_count": 49,
   "metadata": {},
   "outputs": [
    {
     "data": {
      "text/html": [
       "<div>\n",
       "<style scoped>\n",
       "    .dataframe tbody tr th:only-of-type {\n",
       "        vertical-align: middle;\n",
       "    }\n",
       "\n",
       "    .dataframe tbody tr th {\n",
       "        vertical-align: top;\n",
       "    }\n",
       "\n",
       "    .dataframe thead th {\n",
       "        text-align: right;\n",
       "    }\n",
       "</style>\n",
       "<table border=\"1\" class=\"dataframe\">\n",
       "  <thead>\n",
       "    <tr style=\"text-align: right;\">\n",
       "      <th></th>\n",
       "      <th>Age_months</th>\n",
       "      <th>Weight (g)</th>\n",
       "      <th>Timepoint</th>\n",
       "      <th>Tumor Volume (mm3)</th>\n",
       "      <th>Metastatic Sites</th>\n",
       "    </tr>\n",
       "  </thead>\n",
       "  <tbody>\n",
       "    <tr>\n",
       "      <th>count</th>\n",
       "      <td>1888.000000</td>\n",
       "      <td>1888.000000</td>\n",
       "      <td>1888.000000</td>\n",
       "      <td>1888.000000</td>\n",
       "      <td>1888.000000</td>\n",
       "    </tr>\n",
       "    <tr>\n",
       "      <th>mean</th>\n",
       "      <td>12.792903</td>\n",
       "      <td>25.661547</td>\n",
       "      <td>19.597458</td>\n",
       "      <td>50.449276</td>\n",
       "      <td>1.023835</td>\n",
       "    </tr>\n",
       "    <tr>\n",
       "      <th>std</th>\n",
       "      <td>7.186737</td>\n",
       "      <td>3.926776</td>\n",
       "      <td>14.084762</td>\n",
       "      <td>8.904565</td>\n",
       "      <td>1.138507</td>\n",
       "    </tr>\n",
       "    <tr>\n",
       "      <th>min</th>\n",
       "      <td>1.000000</td>\n",
       "      <td>15.000000</td>\n",
       "      <td>0.000000</td>\n",
       "      <td>22.050126</td>\n",
       "      <td>0.000000</td>\n",
       "    </tr>\n",
       "    <tr>\n",
       "      <th>25%</th>\n",
       "      <td>7.000000</td>\n",
       "      <td>25.000000</td>\n",
       "      <td>5.000000</td>\n",
       "      <td>45.000000</td>\n",
       "      <td>0.000000</td>\n",
       "    </tr>\n",
       "    <tr>\n",
       "      <th>50%</th>\n",
       "      <td>13.000000</td>\n",
       "      <td>27.000000</td>\n",
       "      <td>20.000000</td>\n",
       "      <td>48.951421</td>\n",
       "      <td>1.000000</td>\n",
       "    </tr>\n",
       "    <tr>\n",
       "      <th>75%</th>\n",
       "      <td>20.000000</td>\n",
       "      <td>29.000000</td>\n",
       "      <td>30.000000</td>\n",
       "      <td>56.324075</td>\n",
       "      <td>2.000000</td>\n",
       "    </tr>\n",
       "    <tr>\n",
       "      <th>max</th>\n",
       "      <td>24.000000</td>\n",
       "      <td>30.000000</td>\n",
       "      <td>45.000000</td>\n",
       "      <td>78.567014</td>\n",
       "      <td>4.000000</td>\n",
       "    </tr>\n",
       "  </tbody>\n",
       "</table>\n",
       "</div>"
      ],
      "text/plain": [
       "        Age_months   Weight (g)    Timepoint  Tumor Volume (mm3)  \\\n",
       "count  1888.000000  1888.000000  1888.000000         1888.000000   \n",
       "mean     12.792903    25.661547    19.597458           50.449276   \n",
       "std       7.186737     3.926776    14.084762            8.904565   \n",
       "min       1.000000    15.000000     0.000000           22.050126   \n",
       "25%       7.000000    25.000000     5.000000           45.000000   \n",
       "50%      13.000000    27.000000    20.000000           48.951421   \n",
       "75%      20.000000    29.000000    30.000000           56.324075   \n",
       "max      24.000000    30.000000    45.000000           78.567014   \n",
       "\n",
       "       Metastatic Sites  \n",
       "count       1888.000000  \n",
       "mean           1.023835  \n",
       "std            1.138507  \n",
       "min            0.000000  \n",
       "25%            0.000000  \n",
       "50%            1.000000  \n",
       "75%            2.000000  \n",
       "max            4.000000  "
      ]
     },
     "execution_count": 49,
     "metadata": {},
     "output_type": "execute_result"
    }
   ],
   "source": [
    "# Generate a summary statistics table of mean, median, variance, standard deviation, and SEM of the tumor volume for each regimen\n",
    "combined_clean_df.describe()\n",
    "# This method is the most straightforward, creating multiple series and putting them all together at the end."
   ]
  },
  {
   "cell_type": "code",
   "execution_count": 50,
   "metadata": {
    "scrolled": true
   },
   "outputs": [
    {
     "data": {
      "text/html": [
       "<style  type=\"text/css\" >\n",
       "</style><table id=\"T_264f95cc_a864_11ea_aa05_f80f412b8562\" ><thead>    <tr>        <th class=\"blank level0\" ></th>        <th class=\"col_heading level0 col0\" >Mean</th>        <th class=\"col_heading level0 col1\" >Median</th>        <th class=\"col_heading level0 col2\" >Variance</th>        <th class=\"col_heading level0 col3\" >Standard Deviation</th>        <th class=\"col_heading level0 col4\" >SEM</th>    </tr>    <tr>        <th class=\"index_name level0\" >Drug Regimen</th>        <th class=\"blank\" ></th>        <th class=\"blank\" ></th>        <th class=\"blank\" ></th>        <th class=\"blank\" ></th>        <th class=\"blank\" ></th>    </tr></thead><tbody>\n",
       "                <tr>\n",
       "                        <th id=\"T_264f95cc_a864_11ea_aa05_f80f412b8562level0_row0\" class=\"row_heading level0 row0\" >Capomulin</th>\n",
       "                        <td id=\"T_264f95cc_a864_11ea_aa05_f80f412b8562row0_col0\" class=\"data row0 col0\" >40.68</td>\n",
       "                        <td id=\"T_264f95cc_a864_11ea_aa05_f80f412b8562row0_col1\" class=\"data row0 col1\" >41.56</td>\n",
       "                        <td id=\"T_264f95cc_a864_11ea_aa05_f80f412b8562row0_col2\" class=\"data row0 col2\" >24.95</td>\n",
       "                        <td id=\"T_264f95cc_a864_11ea_aa05_f80f412b8562row0_col3\" class=\"data row0 col3\" >4.99</td>\n",
       "                        <td id=\"T_264f95cc_a864_11ea_aa05_f80f412b8562row0_col4\" class=\"data row0 col4\" >0.33</td>\n",
       "            </tr>\n",
       "            <tr>\n",
       "                        <th id=\"T_264f95cc_a864_11ea_aa05_f80f412b8562level0_row1\" class=\"row_heading level0 row1\" >Ceftamin</th>\n",
       "                        <td id=\"T_264f95cc_a864_11ea_aa05_f80f412b8562row1_col0\" class=\"data row1 col0\" >52.59</td>\n",
       "                        <td id=\"T_264f95cc_a864_11ea_aa05_f80f412b8562row1_col1\" class=\"data row1 col1\" >51.78</td>\n",
       "                        <td id=\"T_264f95cc_a864_11ea_aa05_f80f412b8562row1_col2\" class=\"data row1 col2\" >39.29</td>\n",
       "                        <td id=\"T_264f95cc_a864_11ea_aa05_f80f412b8562row1_col3\" class=\"data row1 col3\" >6.27</td>\n",
       "                        <td id=\"T_264f95cc_a864_11ea_aa05_f80f412b8562row1_col4\" class=\"data row1 col4\" >0.47</td>\n",
       "            </tr>\n",
       "            <tr>\n",
       "                        <th id=\"T_264f95cc_a864_11ea_aa05_f80f412b8562level0_row2\" class=\"row_heading level0 row2\" >Infubinol</th>\n",
       "                        <td id=\"T_264f95cc_a864_11ea_aa05_f80f412b8562row2_col0\" class=\"data row2 col0\" >52.88</td>\n",
       "                        <td id=\"T_264f95cc_a864_11ea_aa05_f80f412b8562row2_col1\" class=\"data row2 col1\" >51.82</td>\n",
       "                        <td id=\"T_264f95cc_a864_11ea_aa05_f80f412b8562row2_col2\" class=\"data row2 col2\" >43.13</td>\n",
       "                        <td id=\"T_264f95cc_a864_11ea_aa05_f80f412b8562row2_col3\" class=\"data row2 col3\" >6.57</td>\n",
       "                        <td id=\"T_264f95cc_a864_11ea_aa05_f80f412b8562row2_col4\" class=\"data row2 col4\" >0.49</td>\n",
       "            </tr>\n",
       "            <tr>\n",
       "                        <th id=\"T_264f95cc_a864_11ea_aa05_f80f412b8562level0_row3\" class=\"row_heading level0 row3\" >Ketapril</th>\n",
       "                        <td id=\"T_264f95cc_a864_11ea_aa05_f80f412b8562row3_col0\" class=\"data row3 col0\" >55.24</td>\n",
       "                        <td id=\"T_264f95cc_a864_11ea_aa05_f80f412b8562row3_col1\" class=\"data row3 col1\" >53.70</td>\n",
       "                        <td id=\"T_264f95cc_a864_11ea_aa05_f80f412b8562row3_col2\" class=\"data row3 col2\" >68.55</td>\n",
       "                        <td id=\"T_264f95cc_a864_11ea_aa05_f80f412b8562row3_col3\" class=\"data row3 col3\" >8.28</td>\n",
       "                        <td id=\"T_264f95cc_a864_11ea_aa05_f80f412b8562row3_col4\" class=\"data row3 col4\" >0.60</td>\n",
       "            </tr>\n",
       "            <tr>\n",
       "                        <th id=\"T_264f95cc_a864_11ea_aa05_f80f412b8562level0_row4\" class=\"row_heading level0 row4\" >Naftisol</th>\n",
       "                        <td id=\"T_264f95cc_a864_11ea_aa05_f80f412b8562row4_col0\" class=\"data row4 col0\" >54.33</td>\n",
       "                        <td id=\"T_264f95cc_a864_11ea_aa05_f80f412b8562row4_col1\" class=\"data row4 col1\" >52.51</td>\n",
       "                        <td id=\"T_264f95cc_a864_11ea_aa05_f80f412b8562row4_col2\" class=\"data row4 col2\" >66.17</td>\n",
       "                        <td id=\"T_264f95cc_a864_11ea_aa05_f80f412b8562row4_col3\" class=\"data row4 col3\" >8.13</td>\n",
       "                        <td id=\"T_264f95cc_a864_11ea_aa05_f80f412b8562row4_col4\" class=\"data row4 col4\" >0.60</td>\n",
       "            </tr>\n",
       "            <tr>\n",
       "                        <th id=\"T_264f95cc_a864_11ea_aa05_f80f412b8562level0_row5\" class=\"row_heading level0 row5\" >Placebo</th>\n",
       "                        <td id=\"T_264f95cc_a864_11ea_aa05_f80f412b8562row5_col0\" class=\"data row5 col0\" >54.03</td>\n",
       "                        <td id=\"T_264f95cc_a864_11ea_aa05_f80f412b8562row5_col1\" class=\"data row5 col1\" >52.29</td>\n",
       "                        <td id=\"T_264f95cc_a864_11ea_aa05_f80f412b8562row5_col2\" class=\"data row5 col2\" >61.17</td>\n",
       "                        <td id=\"T_264f95cc_a864_11ea_aa05_f80f412b8562row5_col3\" class=\"data row5 col3\" >7.82</td>\n",
       "                        <td id=\"T_264f95cc_a864_11ea_aa05_f80f412b8562row5_col4\" class=\"data row5 col4\" >0.58</td>\n",
       "            </tr>\n",
       "            <tr>\n",
       "                        <th id=\"T_264f95cc_a864_11ea_aa05_f80f412b8562level0_row6\" class=\"row_heading level0 row6\" >Propriva</th>\n",
       "                        <td id=\"T_264f95cc_a864_11ea_aa05_f80f412b8562row6_col0\" class=\"data row6 col0\" >52.39</td>\n",
       "                        <td id=\"T_264f95cc_a864_11ea_aa05_f80f412b8562row6_col1\" class=\"data row6 col1\" >50.91</td>\n",
       "                        <td id=\"T_264f95cc_a864_11ea_aa05_f80f412b8562row6_col2\" class=\"data row6 col2\" >43.14</td>\n",
       "                        <td id=\"T_264f95cc_a864_11ea_aa05_f80f412b8562row6_col3\" class=\"data row6 col3\" >6.57</td>\n",
       "                        <td id=\"T_264f95cc_a864_11ea_aa05_f80f412b8562row6_col4\" class=\"data row6 col4\" >0.53</td>\n",
       "            </tr>\n",
       "            <tr>\n",
       "                        <th id=\"T_264f95cc_a864_11ea_aa05_f80f412b8562level0_row7\" class=\"row_heading level0 row7\" >Ramicane</th>\n",
       "                        <td id=\"T_264f95cc_a864_11ea_aa05_f80f412b8562row7_col0\" class=\"data row7 col0\" >40.22</td>\n",
       "                        <td id=\"T_264f95cc_a864_11ea_aa05_f80f412b8562row7_col1\" class=\"data row7 col1\" >40.67</td>\n",
       "                        <td id=\"T_264f95cc_a864_11ea_aa05_f80f412b8562row7_col2\" class=\"data row7 col2\" >23.49</td>\n",
       "                        <td id=\"T_264f95cc_a864_11ea_aa05_f80f412b8562row7_col3\" class=\"data row7 col3\" >4.85</td>\n",
       "                        <td id=\"T_264f95cc_a864_11ea_aa05_f80f412b8562row7_col4\" class=\"data row7 col4\" >0.32</td>\n",
       "            </tr>\n",
       "            <tr>\n",
       "                        <th id=\"T_264f95cc_a864_11ea_aa05_f80f412b8562level0_row8\" class=\"row_heading level0 row8\" >Stelasyn</th>\n",
       "                        <td id=\"T_264f95cc_a864_11ea_aa05_f80f412b8562row8_col0\" class=\"data row8 col0\" >54.23</td>\n",
       "                        <td id=\"T_264f95cc_a864_11ea_aa05_f80f412b8562row8_col1\" class=\"data row8 col1\" >52.43</td>\n",
       "                        <td id=\"T_264f95cc_a864_11ea_aa05_f80f412b8562row8_col2\" class=\"data row8 col2\" >59.45</td>\n",
       "                        <td id=\"T_264f95cc_a864_11ea_aa05_f80f412b8562row8_col3\" class=\"data row8 col3\" >7.71</td>\n",
       "                        <td id=\"T_264f95cc_a864_11ea_aa05_f80f412b8562row8_col4\" class=\"data row8 col4\" >0.57</td>\n",
       "            </tr>\n",
       "            <tr>\n",
       "                        <th id=\"T_264f95cc_a864_11ea_aa05_f80f412b8562level0_row9\" class=\"row_heading level0 row9\" >Zoniferol</th>\n",
       "                        <td id=\"T_264f95cc_a864_11ea_aa05_f80f412b8562row9_col0\" class=\"data row9 col0\" >53.24</td>\n",
       "                        <td id=\"T_264f95cc_a864_11ea_aa05_f80f412b8562row9_col1\" class=\"data row9 col1\" >51.82</td>\n",
       "                        <td id=\"T_264f95cc_a864_11ea_aa05_f80f412b8562row9_col2\" class=\"data row9 col2\" >48.53</td>\n",
       "                        <td id=\"T_264f95cc_a864_11ea_aa05_f80f412b8562row9_col3\" class=\"data row9 col3\" >6.97</td>\n",
       "                        <td id=\"T_264f95cc_a864_11ea_aa05_f80f412b8562row9_col4\" class=\"data row9 col4\" >0.52</td>\n",
       "            </tr>\n",
       "    </tbody></table>"
      ],
      "text/plain": [
       "<pandas.io.formats.style.Styler at 0x16aeb176448>"
      ]
     },
     "execution_count": 50,
     "metadata": {},
     "output_type": "execute_result"
    }
   ],
   "source": [
    "# Generate a summary statistics table of mean, median, variance, standard deviation, and SEM of the tumor volume for each regimen\n",
    "# This method produces everything in a single groupby function.\n",
    "\n",
    "byDrug = combined_clean_df.groupby(\"Drug Regimen\")[\"Tumor Volume (mm3)\"]\n",
    "\n",
    "mean_drug= byDrug.mean()\n",
    "median_drug= byDrug.median()\n",
    "var_drug= byDrug.var()\n",
    "std_drug= byDrug.std()\n",
    "sem_drug= byDrug.sem()\n",
    "\n",
    "Summary_stat_df=pd.DataFrame({\"Mean\":mean_drug,\"Median\":median_drug, \"Variance\":var_drug, \n",
    "                              \"Standard Deviation\":std_drug,\"SEM\":sem_drug})\n",
    "Summary_stat_df.head(10).style.format({\"Mean\":\"{:.2f}\",\"Median\":\"{:.2f}\", \"Variance\":\"{:.2f}\", \n",
    "                              \"Standard Deviation\":\"{:.2f}\",\"SEM\":\"{:.2f}\"})\n"
   ]
  },
  {
   "cell_type": "code",
   "execution_count": 51,
   "metadata": {},
   "outputs": [],
   "source": [
    "#Condition for each treatment\n",
    "Capomulin_df = combined_clean_df.loc[combined_clean_df[\"Drug Regimen\"]==\"Capomulin\"]\n",
    "Ceftamin_df = combined_clean_df.loc[combined_clean_df[\"Drug Regimen\"]==\"Ceftamin\"]\n",
    "Infubinol_df = combined_clean_df.loc[combined_clean_df[\"Drug Regimen\"]==\"Infubinol\"]\n",
    "Ketapril_df = combined_clean_df.loc[combined_clean_df[\"Drug Regimen\"]==\"Ketapril\"]\n",
    "Naftisol_df = combined_clean_df.loc[combined_clean_df[\"Drug Regimen\"]==\"Naftisol\"]\n",
    "Placebo_df = combined_clean_df.loc[combined_clean_df[\"Drug Regimen\"]==\"Placebo\"]\n",
    "Propriva_df = combined_clean_df.loc[combined_clean_df[\"Drug Regimen\"]==\"Propriva\"]\n",
    "Ramicane_df = combined_clean_df.loc[combined_clean_df[\"Drug Regimen\"]==\"Ramicane\"]\n",
    "Stelasyn_df = combined_clean_df.loc[combined_clean_df[\"Drug Regimen\"]==\"Stelasyn\"]\n",
    "Zoniferol_df = combined_clean_df.loc[combined_clean_df[\"Drug Regimen\"]==\"Zoniferol\"]\n"
   ]
  },
  {
   "cell_type": "markdown",
   "metadata": {},
   "source": [
    "## Bar Plots"
   ]
  },
  {
   "cell_type": "markdown",
   "metadata": {},
   "source": [
    "Bar using Pandas"
   ]
  },
  {
   "cell_type": "code",
   "execution_count": 65,
   "metadata": {},
   "outputs": [
    {
     "data": {
      "text/plain": [
       "<matplotlib.axes._subplots.AxesSubplot at 0x16af0e30bc8>"
      ]
     },
     "execution_count": 65,
     "metadata": {},
     "output_type": "execute_result"
    },
    {
     "data": {
      "image/png": "[encoded data removed]",
      "text/plain": [
       "<Figure size 432x288 with 1 Axes>"
      ]
     },
     "metadata": {
      "needs_background": "light"
     },
     "output_type": "display_data"
    }
   ],
   "source": [
    "# Generate a bar plot showing the number of mice per time point for each treatment throughout the course of the study using pandas.\n",
    "\n",
    "#groupby \"Timepoint\"\n",
    "Capomulin_grp = Capomulin_df.groupby(\"Timepoint\")\n",
    "#number of mice per timepoint\n",
    "nMice_Capomulin = Capomulin_grp[\"Mouse ID\"].count()  # it is pandas series. index used as x-axis\n",
    "\n",
    "ax = nMice_Capomulin.plot.bar()\n",
    "plt.title(\"Capomulin: the number of mice per time point\")\n",
    "ax "
   ]
  },
  {
   "cell_type": "code",
   "execution_count": 66,
   "metadata": {
    "scrolled": true
   },
   "outputs": [
    {
     "data": {
      "text/plain": [
       "<matplotlib.axes._subplots.AxesSubplot at 0x16af0f39f48>"
      ]
     },
     "execution_count": 66,
     "metadata": {},
     "output_type": "execute_result"
    },
    {
     "data": {
      "image/png": "[encoded data removed]",
      "text/plain": [
       "<Figure size 432x288 with 1 Axes>"
      ]
     },
     "metadata": {
      "needs_background": "light"
     },
     "output_type": "display_data"
    }
   ],
   "source": [
    "Ceftamin_grp = Ceftamin_df.groupby(\"Timepoint\")\n",
    "nMice_Ceftamin = Ceftamin_grp[\"Mouse ID\"].count()  # it is pandas series. index used as x-axis\n",
    "\n",
    "ax = nMice_Ceftamin.plot.bar()\n",
    "plt.title(\"Ceftamin: the number of mice per time point\")\n",
    "ax "
   ]
  },
  {
   "cell_type": "code",
   "execution_count": 67,
   "metadata": {},
   "outputs": [
    {
     "data": {
      "text/plain": [
       "<matplotlib.axes._subplots.AxesSubplot at 0x16aed5f5ec8>"
      ]
     },
     "execution_count": 67,
     "metadata": {},
     "output_type": "execute_result"
    },
    {
     "data": {
      "image/png": "[encoded data removed]",
      "text/plain": [
       "<Figure size 432x288 with 1 Axes>"
      ]
     },
     "metadata": {
      "needs_background": "light"
     },
     "output_type": "display_data"
    }
   ],
   "source": [
    "Infubinol_grp = Infubinol_df.groupby(\"Timepoint\")\n",
    "nMice_Infubinol = Infubinol_grp[\"Mouse ID\"].count()  # it is pandas series. index used as x-axis\n",
    "\n",
    "ax = nMice_Infubinol.plot.bar()\n",
    "plt.title(\"Infubinol: the number of mice per time point\")\n",
    "ax "
   ]
  },
  {
   "cell_type": "code",
   "execution_count": 68,
   "metadata": {},
   "outputs": [
    {
     "data": {
      "text/plain": [
       "<matplotlib.axes._subplots.AxesSubplot at 0x16af1268048>"
      ]
     },
     "execution_count": 68,
     "metadata": {},
     "output_type": "execute_result"
    },
    {
     "data": {
      "image/png": "[encoded data removed]",
      "text/plain": [
       "<Figure size 432x288 with 1 Axes>"
      ]
     },
     "metadata": {
      "needs_background": "light"
     },
     "output_type": "display_data"
    }
   ],
   "source": [
    "Ketapril_grp = Ketapril_df.groupby(\"Timepoint\")\n",
    "nMice_Ketapril = Ketapril_grp[\"Mouse ID\"].count()  \n",
    "\n",
    "ax = nMice_Ketapril.plot.bar()\n",
    "plt.title(\"Ketapril: the number of mice per time point\")\n",
    "ax "
   ]
  },
  {
   "cell_type": "code",
   "execution_count": 70,
   "metadata": {},
   "outputs": [
    {
     "data": {
      "text/plain": [
       "<matplotlib.axes._subplots.AxesSubplot at 0x16aeafb2348>"
      ]
     },
     "execution_count": 70,
     "metadata": {},
     "output_type": "execute_result"
    },
    {
     "data": {
      "image/png": "[encoded data removed]",
      "text/plain": [
       "<Figure size 432x288 with 1 Axes>"
      ]
     },
     "metadata": {
      "needs_background": "light"
     },
     "output_type": "display_data"
    }
   ],
   "source": [
    "Naftisol_grp = Naftisol_df.groupby(\"Timepoint\")\n",
    "nMice_Naftisol = Naftisol_grp[\"Mouse ID\"].count()  # it is pandas series. index used as x-axis\n",
    "\n",
    "ax = nMice_Naftisol.plot.bar()\n",
    "plt.title(\"Naftisol: the number of mice per time point\")\n",
    "ax "
   ]
  },
  {
   "cell_type": "code",
   "execution_count": 71,
   "metadata": {},
   "outputs": [
    {
     "data": {
      "text/plain": [
       "<matplotlib.axes._subplots.AxesSubplot at 0x16af14f1148>"
      ]
     },
     "execution_count": 71,
     "metadata": {},
     "output_type": "execute_result"
    },
    {
     "data": {
      "image/png": "[encoded data removed]",
      "text/plain": [
       "<Figure size 432x288 with 1 Axes>"
      ]
     },
     "metadata": {
      "needs_background": "light"
     },
     "output_type": "display_data"
    }
   ],
   "source": [
    "Placebo_grp = Placebo_df.groupby(\"Timepoint\")\n",
    "nMice_Placebo = Placebo_grp[\"Mouse ID\"].count()  # it is pandas series. index used as x-axis\n",
    "\n",
    "ax = nMice_Placebo.plot.bar()\n",
    "plt.title(\"Placebo: the number of mice per time point\")\n",
    "ax "
   ]
  },
  {
   "cell_type": "code",
   "execution_count": 72,
   "metadata": {},
   "outputs": [
    {
     "data": {
      "text/plain": [
       "<matplotlib.axes._subplots.AxesSubplot at 0x16af15552c8>"
      ]
     },
     "execution_count": 72,
     "metadata": {},
     "output_type": "execute_result"
    },
    {
     "data": {
      "image/png": "[encoded data removed]",
      "text/plain": [
       "<Figure size 432x288 with 1 Axes>"
      ]
     },
     "metadata": {
      "needs_background": "light"
     },
     "output_type": "display_data"
    }
   ],
   "source": [
    "Propriva_grp = Propriva_df.groupby(\"Timepoint\")\n",
    "nMice_Propriva = Propriva_grp[\"Mouse ID\"].count()  # it is pandas series. index used as x-axis\n",
    "\n",
    "ax = nMice_Propriva.plot.bar()\n",
    "plt.title(\"Propriva: the number of mice per time point\")\n",
    "ax "
   ]
  },
  {
   "cell_type": "code",
   "execution_count": 73,
   "metadata": {},
   "outputs": [
    {
     "data": {
      "text/plain": [
       "<matplotlib.axes._subplots.AxesSubplot at 0x16af15a5b08>"
      ]
     },
     "execution_count": 73,
     "metadata": {},
     "output_type": "execute_result"
    },
    {
     "data": {
      "image/png": "[encoded data removed]",
      "text/plain": [
       "<Figure size 432x288 with 1 Axes>"
      ]
     },
     "metadata": {
      "needs_background": "light"
     },
     "output_type": "display_data"
    }
   ],
   "source": [
    "Ramicane_grp = Ramicane_df.groupby(\"Timepoint\")\n",
    "nMice_Ramicane = Ramicane_grp[\"Mouse ID\"].count()  # it is pandas series. index used as x-axis\n",
    "\n",
    "ax = nMice_Ramicane.plot.bar()\n",
    "plt.title(\"Ramicane: the number of mice per time point\")\n",
    "ax "
   ]
  },
  {
   "cell_type": "code",
   "execution_count": 74,
   "metadata": {},
   "outputs": [
    {
     "data": {
      "text/plain": [
       "<matplotlib.axes._subplots.AxesSubplot at 0x16af160d048>"
      ]
     },
     "execution_count": 74,
     "metadata": {},
     "output_type": "execute_result"
    },
    {
     "data": {
      "image/png": "[encoded data removed]",
      "text/plain": [
       "<Figure size 432x288 with 1 Axes>"
      ]
     },
     "metadata": {
      "needs_background": "light"
     },
     "output_type": "display_data"
    }
   ],
   "source": [
    "Stelasyn_grp = Stelasyn_df.groupby(\"Timepoint\")\n",
    "nMice_Stelasyn = Stelasyn_grp[\"Mouse ID\"].count()  # it is pandas series. index used as x-axis\n",
    "\n",
    "ax = nMice_Stelasyn.plot.bar()\n",
    "plt.title(\"Stelasyn: the number of mice per time point\")\n",
    "ax "
   ]
  },
  {
   "cell_type": "code",
   "execution_count": 75,
   "metadata": {},
   "outputs": [
    {
     "data": {
      "text/plain": [
       "<matplotlib.axes._subplots.AxesSubplot at 0x16af168c048>"
      ]
     },
     "execution_count": 75,
     "metadata": {},
     "output_type": "execute_result"
    },
    {
     "data": {
      "image/png": "[encoded data removed]",
      "text/plain": [
       "<Figure size 432x288 with 1 Axes>"
      ]
     },
     "metadata": {
      "needs_background": "light"
     },
     "output_type": "display_data"
    }
   ],
   "source": [
    "Zoniferol_grp = Zoniferol_df.groupby(\"Timepoint\")\n",
    "nMice_Zoniferol = Zoniferol_grp[\"Mouse ID\"].count()  # it is pandas series. index used as x-axis\n",
    "\n",
    "ax = nMice_Zoniferol.plot.bar()\n",
    "plt.title(\"Zoniferol: the number of mice per time point\")\n",
    "ax "
   ]
  },
  {
   "cell_type": "code",
   "execution_count": 96,
   "metadata": {},
   "outputs": [
    {
     "data": {
      "text/plain": [
       "21"
      ]
     },
     "execution_count": 96,
     "metadata": {},
     "output_type": "execute_result"
    }
   ],
   "source": [
    "Capomulin_df.loc[Capomulin_df[\"Timepoint\"] == 40, \"Mouse ID\"].count()"
   ]
  },
  {
   "cell_type": "markdown",
   "metadata": {},
   "source": [
    "Bar using pyplot"
   ]
  },
  {
   "cell_type": "code",
   "execution_count": 111,
   "metadata": {},
   "outputs": [
    {
     "data": {
      "image/png": "[encoded data removed]",
      "text/plain": [
       "<Figure size 504x216 with 1 Axes>"
      ]
     },
     "metadata": {
      "needs_background": "light"
     },
     "output_type": "display_data"
    }
   ],
   "source": [
    "# Generate a bar plot showing the number of mice per time point for each treatment throughout the course of the study using pyplot.\n",
    "\n",
    "#groupby \"Timepoint\"\n",
    "Capomulin_grp = Capomulin_df.groupby(\"Timepoint\")\n",
    "#number of mice per timepoint\n",
    "nMice_Capomulin = Capomulin_grp[\"Mouse ID\"].count()  \n",
    "\n",
    "#define x-axis : unique value from \"Timepoint\" column\n",
    "x_axis= Capomulin_df[\"Timepoint\"].unique()\n",
    "\n",
    "plt.figure(figsize=(7,3))\n",
    "plt.bar(x_axis, nMice_Capomulin, width=2,color='r', alpha =0.5)\n",
    "plt.xlabel(\"Timepoint\")\n",
    "plt.ylabel(\"Number of mice\")\n",
    "plt.xticks(x_axis)\n",
    "plt.title(\"Capomulin: the number of mice per time point\")\n",
    "plt.show()\n"
   ]
  },
  {
   "cell_type": "code",
   "execution_count": 112,
   "metadata": {},
   "outputs": [
    {
     "data": {
      "image/png": "[encoded data removed]",
      "text/plain": [
       "<Figure size 504x216 with 1 Axes>"
      ]
     },
     "metadata": {
      "needs_background": "light"
     },
     "output_type": "display_data"
    }
   ],
   "source": [
    "#groupby \"Timepoint\"\n",
    "Ceftamin_grp = Ceftamin_df.groupby(\"Timepoint\")\n",
    "#number of mice per timepoint\n",
    "nMice_Ceftamin = Ceftamin_grp[\"Mouse ID\"].count()  \n",
    "\n",
    "#define x-axis : unique value from \"Timepoint\" column\n",
    "x_axis= Ceftamin_df[\"Timepoint\"].unique()\n",
    "\n",
    "plt.figure(figsize=(7,3))\n",
    "plt.bar(x_axis, nMice_Ceftamin, width=2,color='r', alpha =0.5)\n",
    "plt.xlabel(\"Timepoint\")\n",
    "plt.ylabel(\"Number of mice\")\n",
    "plt.xticks(x_axis)\n",
    "plt.title(\"Ceftamin: the number of mice per time point\")\n",
    "plt.show()"
   ]
  },
  {
   "cell_type": "code",
   "execution_count": 113,
   "metadata": {},
   "outputs": [
    {
     "data": {
      "image/png": "[encoded data removed]",
      "text/plain": [
       "<Figure size 504x216 with 1 Axes>"
      ]
     },
     "metadata": {
      "needs_background": "light"
     },
     "output_type": "display_data"
    }
   ],
   "source": [
    "#groupby \"Timepoint\"\n",
    "Infubinol_grp = Infubinol_df.groupby(\"Timepoint\")\n",
    "#number of mice per timepoint\n",
    "nMice_Infubinol =Infubinol_grp[\"Mouse ID\"].count()  \n",
    "\n",
    "#define x-axis : unique value from \"Timepoint\" column\n",
    "x_axis= Infubinol_df[\"Timepoint\"].unique()\n",
    "\n",
    "plt.figure(figsize=(7,3))\n",
    "plt.bar(x_axis, nMice_Infubinol, width=2,color='r', alpha =0.5)\n",
    "plt.xlabel(\"Timepoint\")\n",
    "plt.ylabel(\"Number of mice\")\n",
    "plt.xticks(x_axis)\n",
    "plt.title(\"Infubinol: the number of mice per time point\")\n",
    "plt.show()"
   ]
  },
  {
   "cell_type": "code",
   "execution_count": 114,
   "metadata": {},
   "outputs": [
    {
     "data": {
      "image/png": "[encoded data removed]",
      "text/plain": [
       "<Figure size 504x216 with 1 Axes>"
      ]
     },
     "metadata": {
      "needs_background": "light"
     },
     "output_type": "display_data"
    }
   ],
   "source": [
    "#groupby \"Timepoint\"\n",
    "Ketapril_grp = Ketapril_df.groupby(\"Timepoint\")\n",
    "#number of mice per timepoint\n",
    "nMice_Ketapril =Ketapril_grp[\"Mouse ID\"].count()  \n",
    "\n",
    "#define x-axis : unique value from \"Timepoint\" column\n",
    "x_axis= Ketapril_df[\"Timepoint\"].unique()\n",
    "\n",
    "plt.figure(figsize=(7,3))\n",
    "plt.bar(x_axis, nMice_Ketapril, width=2,color='r', alpha =0.5)\n",
    "plt.xlabel(\"Timepoint\")\n",
    "plt.ylabel(\"Number of mice\")\n",
    "plt.xticks(x_axis)\n",
    "plt.title(\"Ketapril: the number of mice per time point\")\n",
    "plt.show()"
   ]
  },
  {
   "cell_type": "code",
   "execution_count": 115,
   "metadata": {},
   "outputs": [
    {
     "data": {
      "image/png": "[encoded data removed]",
      "text/plain": [
       "<Figure size 504x216 with 1 Axes>"
      ]
     },
     "metadata": {
      "needs_background": "light"
     },
     "output_type": "display_data"
    }
   ],
   "source": [
    "#groupby \"Timepoint\"\n",
    "Naftisol_grp = Naftisol_df.groupby(\"Timepoint\")\n",
    "#number of mice per timepoint\n",
    "nMice_Naftisol =Naftisol_grp[\"Mouse ID\"].count()  \n",
    "\n",
    "#define x-axis : unique value from \"Timepoint\" column\n",
    "x_axis= Naftisol_df[\"Timepoint\"].unique()\n",
    "\n",
    "plt.figure(figsize=(7,3))\n",
    "plt.bar(x_axis, nMice_Naftisol, width=2,color='r', alpha =0.5)\n",
    "plt.xlabel(\"Timepoint\")\n",
    "plt.ylabel(\"Number of mice\")\n",
    "plt.xticks(x_axis)\n",
    "plt.title(\"Naftisol: the number of mice per time point\")\n",
    "plt.show()"
   ]
  },
  {
   "cell_type": "code",
   "execution_count": 116,
   "metadata": {},
   "outputs": [
    {
     "data": {
      "image/png": "[encoded data removed]",
      "text/plain": [
       "<Figure size 504x216 with 1 Axes>"
      ]
     },
     "metadata": {
      "needs_background": "light"
     },
     "output_type": "display_data"
    }
   ],
   "source": [
    "#groupby \"Timepoint\"\n",
    "Placebo_grp = Placebo_df.groupby(\"Timepoint\")\n",
    "#number of mice per timepoint\n",
    "nMice_Placebol =Placebo_grp[\"Mouse ID\"].count()  \n",
    "\n",
    "#define x-axis : unique value from \"Timepoint\" column\n",
    "x_axis= Placebo_df[\"Timepoint\"].unique()\n",
    "\n",
    "plt.figure(figsize=(7,3))\n",
    "plt.bar(x_axis, nMice_Placebo, width=2,color='r', alpha =0.5)\n",
    "plt.xlabel(\"Timepoint\")\n",
    "plt.ylabel(\"Number of mice\")\n",
    "plt.xticks(x_axis)\n",
    "plt.title(\"Placebo: the number of mice per time point\")\n",
    "plt.show()"
   ]
  },
  {
   "cell_type": "code",
   "execution_count": 117,
   "metadata": {},
   "outputs": [
    {
     "data": {
      "image/png": "[encoded data removed]",
      "text/plain": [
       "<Figure size 504x216 with 1 Axes>"
      ]
     },
     "metadata": {
      "needs_background": "light"
     },
     "output_type": "display_data"
    }
   ],
   "source": [
    "#groupby \"Timepoint\"\n",
    "Propriva_grp = Propriva_df.groupby(\"Timepoint\")\n",
    "#number of mice per timepoint\n",
    "nMice_Propriva =Propriva_grp[\"Mouse ID\"].count()  \n",
    "\n",
    "#define x-axis : unique value from \"Timepoint\" column\n",
    "x_axis= Propriva_df[\"Timepoint\"].unique()\n",
    "\n",
    "plt.figure(figsize=(7,3))\n",
    "plt.bar(x_axis, nMice_Propriva, width=2,color='r', alpha =0.5)\n",
    "plt.xlabel(\"Timepoint\")\n",
    "plt.ylabel(\"Number of mice\")\n",
    "plt.xticks(x_axis)\n",
    "plt.title(\"Propriva: the number of mice per time point\")\n",
    "plt.show()"
   ]
  },
  {
   "cell_type": "code",
   "execution_count": 118,
   "metadata": {},
   "outputs": [
    {
     "data": {
      "image/png": "[encoded data removed]",
      "text/plain": [
       "<Figure size 504x216 with 1 Axes>"
      ]
     },
     "metadata": {
      "needs_background": "light"
     },
     "output_type": "display_data"
    }
   ],
   "source": [
    "#groupby \"Timepoint\"\n",
    "Ramicane_grp = Ramicane_df.groupby(\"Timepoint\")\n",
    "#number of mice per timepoint\n",
    "nMice_Ramicane =Ramicane_grp[\"Mouse ID\"].count()  \n",
    "\n",
    "#define x-axis : unique value from \"Timepoint\" column\n",
    "x_axis= Ramicane_df[\"Timepoint\"].unique()\n",
    "\n",
    "plt.figure(figsize=(7,3))\n",
    "plt.bar(x_axis, nMice_Ramicane, width=2,color='r', alpha =0.5)\n",
    "plt.xlabel(\"Timepoint\")\n",
    "plt.ylabel(\"Number of mice\")\n",
    "plt.xticks(x_axis)\n",
    "plt.title(\"Ramicane: the number of mice per time point\")\n",
    "plt.show()"
   ]
  },
  {
   "cell_type": "code",
   "execution_count": 119,
   "metadata": {},
   "outputs": [
    {
     "data": {
      "image/png": "[encoded data removed]",
      "text/plain": [
       "<Figure size 504x216 with 1 Axes>"
      ]
     },
     "metadata": {
      "needs_background": "light"
     },
     "output_type": "display_data"
    }
   ],
   "source": [
    "#groupby \"Timepoint\"\n",
    "Stelasyn_grp =Stelasyn_df.groupby(\"Timepoint\")\n",
    "#number of mice per timepoint\n",
    "nMice_Stelasyn =Stelasyn_grp[\"Mouse ID\"].count()  \n",
    "\n",
    "#define x-axis : unique value from \"Timepoint\" column\n",
    "x_axis= Stelasyn_df[\"Timepoint\"].unique()\n",
    "\n",
    "plt.figure(figsize=(7,3))\n",
    "plt.bar(x_axis, nMice_Stelasyn, width=2,color='r', alpha =0.5)\n",
    "plt.xlabel(\"Timepoint\")\n",
    "plt.ylabel(\"Number of mice\")\n",
    "plt.xticks(x_axis)\n",
    "plt.title(\"Stelasyn: the number of mice per time point\")\n",
    "plt.show()"
   ]
  },
  {
   "cell_type": "code",
   "execution_count": 120,
   "metadata": {},
   "outputs": [
    {
     "data": {
      "image/png": "[encoded data removed]",
      "text/plain": [
       "<Figure size 504x216 with 1 Axes>"
      ]
     },
     "metadata": {
      "needs_background": "light"
     },
     "output_type": "display_data"
    }
   ],
   "source": [
    "#groupby \"Timepoint\"\n",
    "Zoniferol_grp = Zoniferol_df.groupby(\"Timepoint\")\n",
    "#number of mice per timepoint\n",
    "nMice_Zoniferol =Zoniferol_grp[\"Mouse ID\"].count()  \n",
    "\n",
    "#define x-axis : unique value from \"Timepoint\" column\n",
    "x_axis= Zoniferol_df[\"Timepoint\"].unique()\n",
    "\n",
    "plt.figure(figsize=(7,3))\n",
    "plt.bar(x_axis, nMice_Zoniferol, width=2,color='r', alpha =0.5)\n",
    "plt.xlabel(\"Timepoint\")\n",
    "plt.ylabel(\"Number of mice\")\n",
    "plt.xticks(x_axis)\n",
    "plt.title(\"Zoniferol: the number of mice per time point\")\n",
    "plt.show()"
   ]
  },
  {
   "cell_type": "markdown",
   "metadata": {},
   "source": [
    "## Pie Plots"
   ]
  },
  {
   "cell_type": "code",
   "execution_count": 11,
   "metadata": {},
   "outputs": [],
   "source": [
    "# Generate a pie plot showing the distribution of female versus male mice using pandas"
   ]
  },
  {
   "cell_type": "code",
   "execution_count": 12,
   "metadata": {},
   "outputs": [],
   "source": [
    "# Generate a pie plot showing the distribution of female versus male mice using pyplot"
   ]
  },
  {
   "cell_type": "markdown",
   "metadata": {},
   "source": [
    "## Quartiles, Outliers and Boxplots"
   ]
  },
  {
   "cell_type": "code",
   "execution_count": 13,
   "metadata": {},
   "outputs": [],
   "source": [
    "# Calculate the final tumor volume of each mouse across four of the most promising treatment regimens. Calculate the IQR and quantitatively determine if there are any potential outliers. \n"
   ]
  },
  {
   "cell_type": "code",
   "execution_count": 14,
   "metadata": {},
   "outputs": [],
   "source": [
    "# Generate a box plot of the final tumor volume of each mouse across four regimens of interest"
   ]
  },
  {
   "cell_type": "markdown",
   "metadata": {},
   "source": [
    "## Line and Scatter Plots"
   ]
  },
  {
   "cell_type": "code",
   "execution_count": 15,
   "metadata": {},
   "outputs": [],
   "source": [
    "# Generate a line plot of time point versus tumor volume for a mouse treated with Capomulin\n"
   ]
  },
  {
   "cell_type": "code",
   "execution_count": 16,
   "metadata": {},
   "outputs": [],
   "source": [
    "# Generate a scatter plot of mouse weight versus average tumor volume for the Capomulin regimen\n",
    "\n"
   ]
  },
  {
   "cell_type": "markdown",
   "metadata": {},
   "source": [
    "## Correlation and Regression"
   ]
  },
  {
   "cell_type": "code",
   "execution_count": 17,
   "metadata": {},
   "outputs": [],
   "source": [
    "# Calculate the correlation coefficient and linear regression model \n",
    "# for mouse weight and average tumor volume for the Capomulin regimen\n"
   ]
  },
  {
   "cell_type": "code",
   "execution_count": null,
   "metadata": {},
   "outputs": [],
   "source": []
  }
 ],
 "metadata": {
  "anaconda-cloud": {},
  "kernelspec": {
   "display_name": "Python 3",
   "language": "python",
   "name": "python3"
  },
  "language_info": {
   "codemirror_mode": {
    "name": "ipython",
    "version": 3
   },
   "file_extension": ".py",
   "mimetype": "text/x-python",
   "name": "python",
   "nbconvert_exporter": "python",
   "pygments_lexer": "ipython3",
   "version": "3.7.6"
  },
  "toc": {
   "base_numbering": 1,
   "nav_menu": {},
   "number_sections": true,
   "sideBar": true,
   "skip_h1_title": false,
   "title_cell": "Table of Contents",
   "title_sidebar": "Contents",
   "toc_cell": false,
   "toc_position": {},
   "toc_section_display": true,
   "toc_window_display": true
  }
 },
 "nbformat": 4,
 "nbformat_minor": 2
}
