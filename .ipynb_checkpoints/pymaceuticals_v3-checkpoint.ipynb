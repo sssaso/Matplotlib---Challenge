{
 "cells": [
  {
   "cell_type": "markdown",
   "metadata": {},
   "source": [
    "## Observations and Insights "
   ]
  },
  {
   "cell_type": "code",
   "execution_count": 2,
   "metadata": {},
   "outputs": [],
   "source": [
    "# Dependencies and Setup\n",
    "\n",
    "%config IPCompleter.greedy=True\n",
    "\n",
    "import matplotlib.pyplot as plt\n",
    "import pandas as pd\n",
    "import numpy as np\n",
    "import scipy.stats as st\n",
    "\n",
    "# data files to load and read\n",
    "mouse_metadata_path = \"data/Mouse_metadata.csv\"\n",
    "study_results_path = \"data/Study_results.csv\"\n",
    "\n",
    "# Read the mouse data and the study results\n",
    "mouse_metadata = pd.read_csv(mouse_metadata_path)\n",
    "study_results = pd.read_csv(study_results_path)\n",
    "\n",
    "# Combine the data into a single dataset\n",
    "# mouse_metadata = mouse_metadata.merge(study_results, on = \"Mouse ID\", how=\"inner\")\n",
    "combined_df = pd.merge(mouse_metadata,study_results, on = \"Mouse ID\")"
   ]
  },
  {
   "cell_type": "code",
   "execution_count": 3,
   "metadata": {
    "scrolled": true
   },
   "outputs": [
    {
     "data": {
      "text/html": [
       "<div>\n",
       "<style scoped>\n",
       "    .dataframe tbody tr th:only-of-type {\n",
       "        vertical-align: middle;\n",
       "    }\n",
       "\n",
       "    .dataframe tbody tr th {\n",
       "        vertical-align: top;\n",
       "    }\n",
       "\n",
       "    .dataframe thead th {\n",
       "        text-align: right;\n",
       "    }\n",
       "</style>\n",
       "<table border=\"1\" class=\"dataframe\">\n",
       "  <thead>\n",
       "    <tr style=\"text-align: right;\">\n",
       "      <th></th>\n",
       "      <th>Mouse ID</th>\n",
       "      <th>Drug Regimen</th>\n",
       "      <th>Sex</th>\n",
       "      <th>Age_months</th>\n",
       "      <th>Weight (g)</th>\n",
       "      <th>Timepoint</th>\n",
       "      <th>Tumor Volume (mm3)</th>\n",
       "      <th>Metastatic Sites</th>\n",
       "    </tr>\n",
       "  </thead>\n",
       "  <tbody>\n",
       "    <tr>\n",
       "      <th>0</th>\n",
       "      <td>k403</td>\n",
       "      <td>Ramicane</td>\n",
       "      <td>Male</td>\n",
       "      <td>21</td>\n",
       "      <td>16</td>\n",
       "      <td>0</td>\n",
       "      <td>45.000000</td>\n",
       "      <td>0</td>\n",
       "    </tr>\n",
       "    <tr>\n",
       "      <th>1</th>\n",
       "      <td>k403</td>\n",
       "      <td>Ramicane</td>\n",
       "      <td>Male</td>\n",
       "      <td>21</td>\n",
       "      <td>16</td>\n",
       "      <td>5</td>\n",
       "      <td>38.825898</td>\n",
       "      <td>0</td>\n",
       "    </tr>\n",
       "    <tr>\n",
       "      <th>2</th>\n",
       "      <td>k403</td>\n",
       "      <td>Ramicane</td>\n",
       "      <td>Male</td>\n",
       "      <td>21</td>\n",
       "      <td>16</td>\n",
       "      <td>10</td>\n",
       "      <td>35.014271</td>\n",
       "      <td>1</td>\n",
       "    </tr>\n",
       "    <tr>\n",
       "      <th>3</th>\n",
       "      <td>k403</td>\n",
       "      <td>Ramicane</td>\n",
       "      <td>Male</td>\n",
       "      <td>21</td>\n",
       "      <td>16</td>\n",
       "      <td>15</td>\n",
       "      <td>34.223992</td>\n",
       "      <td>1</td>\n",
       "    </tr>\n",
       "    <tr>\n",
       "      <th>4</th>\n",
       "      <td>k403</td>\n",
       "      <td>Ramicane</td>\n",
       "      <td>Male</td>\n",
       "      <td>21</td>\n",
       "      <td>16</td>\n",
       "      <td>20</td>\n",
       "      <td>32.997729</td>\n",
       "      <td>1</td>\n",
       "    </tr>\n",
       "  </tbody>\n",
       "</table>\n",
       "</div>"
      ],
      "text/plain": [
       "  Mouse ID Drug Regimen   Sex  Age_months  Weight (g)  Timepoint  \\\n",
       "0     k403     Ramicane  Male          21          16          0   \n",
       "1     k403     Ramicane  Male          21          16          5   \n",
       "2     k403     Ramicane  Male          21          16         10   \n",
       "3     k403     Ramicane  Male          21          16         15   \n",
       "4     k403     Ramicane  Male          21          16         20   \n",
       "\n",
       "   Tumor Volume (mm3)  Metastatic Sites  \n",
       "0           45.000000                 0  \n",
       "1           38.825898                 0  \n",
       "2           35.014271                 1  \n",
       "3           34.223992                 1  \n",
       "4           32.997729                 1  "
      ]
     },
     "execution_count": 3,
     "metadata": {},
     "output_type": "execute_result"
    }
   ],
   "source": [
    "combined_df.head()"
   ]
  },
  {
   "cell_type": "code",
   "execution_count": 4,
   "metadata": {},
   "outputs": [
    {
     "name": "stdout",
     "output_type": "stream",
     "text": [
      "Total number of mice: 249\n",
      "----------------------\n",
      "Number of timepoint: 10\n",
      "----------------------\n",
      "Count of mice : \n",
      "g989    13\n",
      "v991    10\n",
      "w422    10\n",
      "m601    10\n",
      "e213    10\n",
      "        ..\n",
      "x226     1\n",
      "x336     1\n",
      "h428     1\n",
      "o848     1\n",
      "u153     1\n",
      "Name: Mouse ID, Length: 249, dtype: int64\n"
     ]
    },
    {
     "data": {
      "text/html": [
       "<div>\n",
       "<style scoped>\n",
       "    .dataframe tbody tr th:only-of-type {\n",
       "        vertical-align: middle;\n",
       "    }\n",
       "\n",
       "    .dataframe tbody tr th {\n",
       "        vertical-align: top;\n",
       "    }\n",
       "\n",
       "    .dataframe thead th {\n",
       "        text-align: right;\n",
       "    }\n",
       "</style>\n",
       "<table border=\"1\" class=\"dataframe\">\n",
       "  <thead>\n",
       "    <tr style=\"text-align: right;\">\n",
       "      <th></th>\n",
       "      <th>Mouse ID</th>\n",
       "      <th>Drug Regimen</th>\n",
       "      <th>Sex</th>\n",
       "      <th>Age_months</th>\n",
       "      <th>Weight (g)</th>\n",
       "      <th>Timepoint</th>\n",
       "      <th>Tumor Volume (mm3)</th>\n",
       "      <th>Metastatic Sites</th>\n",
       "    </tr>\n",
       "  </thead>\n",
       "  <tbody>\n",
       "    <tr>\n",
       "      <th>908</th>\n",
       "      <td>g989</td>\n",
       "      <td>Propriva</td>\n",
       "      <td>Female</td>\n",
       "      <td>21</td>\n",
       "      <td>26</td>\n",
       "      <td>0</td>\n",
       "      <td>45.000000</td>\n",
       "      <td>0</td>\n",
       "    </tr>\n",
       "    <tr>\n",
       "      <th>909</th>\n",
       "      <td>g989</td>\n",
       "      <td>Propriva</td>\n",
       "      <td>Female</td>\n",
       "      <td>21</td>\n",
       "      <td>26</td>\n",
       "      <td>0</td>\n",
       "      <td>45.000000</td>\n",
       "      <td>0</td>\n",
       "    </tr>\n",
       "    <tr>\n",
       "      <th>910</th>\n",
       "      <td>g989</td>\n",
       "      <td>Propriva</td>\n",
       "      <td>Female</td>\n",
       "      <td>21</td>\n",
       "      <td>26</td>\n",
       "      <td>5</td>\n",
       "      <td>48.786801</td>\n",
       "      <td>0</td>\n",
       "    </tr>\n",
       "    <tr>\n",
       "      <th>911</th>\n",
       "      <td>g989</td>\n",
       "      <td>Propriva</td>\n",
       "      <td>Female</td>\n",
       "      <td>21</td>\n",
       "      <td>26</td>\n",
       "      <td>5</td>\n",
       "      <td>47.570392</td>\n",
       "      <td>0</td>\n",
       "    </tr>\n",
       "    <tr>\n",
       "      <th>912</th>\n",
       "      <td>g989</td>\n",
       "      <td>Propriva</td>\n",
       "      <td>Female</td>\n",
       "      <td>21</td>\n",
       "      <td>26</td>\n",
       "      <td>10</td>\n",
       "      <td>51.745156</td>\n",
       "      <td>0</td>\n",
       "    </tr>\n",
       "    <tr>\n",
       "      <th>913</th>\n",
       "      <td>g989</td>\n",
       "      <td>Propriva</td>\n",
       "      <td>Female</td>\n",
       "      <td>21</td>\n",
       "      <td>26</td>\n",
       "      <td>10</td>\n",
       "      <td>49.880528</td>\n",
       "      <td>0</td>\n",
       "    </tr>\n",
       "    <tr>\n",
       "      <th>914</th>\n",
       "      <td>g989</td>\n",
       "      <td>Propriva</td>\n",
       "      <td>Female</td>\n",
       "      <td>21</td>\n",
       "      <td>26</td>\n",
       "      <td>15</td>\n",
       "      <td>51.325852</td>\n",
       "      <td>1</td>\n",
       "    </tr>\n",
       "    <tr>\n",
       "      <th>915</th>\n",
       "      <td>g989</td>\n",
       "      <td>Propriva</td>\n",
       "      <td>Female</td>\n",
       "      <td>21</td>\n",
       "      <td>26</td>\n",
       "      <td>15</td>\n",
       "      <td>53.442020</td>\n",
       "      <td>0</td>\n",
       "    </tr>\n",
       "    <tr>\n",
       "      <th>916</th>\n",
       "      <td>g989</td>\n",
       "      <td>Propriva</td>\n",
       "      <td>Female</td>\n",
       "      <td>21</td>\n",
       "      <td>26</td>\n",
       "      <td>20</td>\n",
       "      <td>55.326122</td>\n",
       "      <td>1</td>\n",
       "    </tr>\n",
       "    <tr>\n",
       "      <th>917</th>\n",
       "      <td>g989</td>\n",
       "      <td>Propriva</td>\n",
       "      <td>Female</td>\n",
       "      <td>21</td>\n",
       "      <td>26</td>\n",
       "      <td>20</td>\n",
       "      <td>54.657650</td>\n",
       "      <td>1</td>\n",
       "    </tr>\n",
       "    <tr>\n",
       "      <th>918</th>\n",
       "      <td>g989</td>\n",
       "      <td>Propriva</td>\n",
       "      <td>Female</td>\n",
       "      <td>21</td>\n",
       "      <td>26</td>\n",
       "      <td>25</td>\n",
       "      <td>56.045564</td>\n",
       "      <td>1</td>\n",
       "    </tr>\n",
       "    <tr>\n",
       "      <th>919</th>\n",
       "      <td>g989</td>\n",
       "      <td>Propriva</td>\n",
       "      <td>Female</td>\n",
       "      <td>21</td>\n",
       "      <td>26</td>\n",
       "      <td>30</td>\n",
       "      <td>59.082294</td>\n",
       "      <td>1</td>\n",
       "    </tr>\n",
       "    <tr>\n",
       "      <th>920</th>\n",
       "      <td>g989</td>\n",
       "      <td>Propriva</td>\n",
       "      <td>Female</td>\n",
       "      <td>21</td>\n",
       "      <td>26</td>\n",
       "      <td>35</td>\n",
       "      <td>62.570880</td>\n",
       "      <td>2</td>\n",
       "    </tr>\n",
       "  </tbody>\n",
       "</table>\n",
       "</div>"
      ],
      "text/plain": [
       "    Mouse ID Drug Regimen     Sex  Age_months  Weight (g)  Timepoint  \\\n",
       "908     g989     Propriva  Female          21          26          0   \n",
       "909     g989     Propriva  Female          21          26          0   \n",
       "910     g989     Propriva  Female          21          26          5   \n",
       "911     g989     Propriva  Female          21          26          5   \n",
       "912     g989     Propriva  Female          21          26         10   \n",
       "913     g989     Propriva  Female          21          26         10   \n",
       "914     g989     Propriva  Female          21          26         15   \n",
       "915     g989     Propriva  Female          21          26         15   \n",
       "916     g989     Propriva  Female          21          26         20   \n",
       "917     g989     Propriva  Female          21          26         20   \n",
       "918     g989     Propriva  Female          21          26         25   \n",
       "919     g989     Propriva  Female          21          26         30   \n",
       "920     g989     Propriva  Female          21          26         35   \n",
       "\n",
       "     Tumor Volume (mm3)  Metastatic Sites  \n",
       "908           45.000000                 0  \n",
       "909           45.000000                 0  \n",
       "910           48.786801                 0  \n",
       "911           47.570392                 0  \n",
       "912           51.745156                 0  \n",
       "913           49.880528                 0  \n",
       "914           51.325852                 1  \n",
       "915           53.442020                 0  \n",
       "916           55.326122                 1  \n",
       "917           54.657650                 1  \n",
       "918           56.045564                 1  \n",
       "919           59.082294                 1  \n",
       "920           62.570880                 2  "
      ]
     },
     "execution_count": 4,
     "metadata": {},
     "output_type": "execute_result"
    }
   ],
   "source": [
    "# Checking the number of mice in the DataFrame.\n",
    "\n",
    "totNumOfmice = combined_df[\"Mouse ID\"].nunique()\n",
    "timepoint_count=combined_df[\"Timepoint\"].nunique()\n",
    "mice_count=combined_df[\"Mouse ID\"].value_counts()\n",
    "\n",
    "print(\"Total number of mice: \" + str(totNumOfmice))\n",
    "print(\"----------------------\")\n",
    "print(\"Number of timepoint: \" + str(timepoint_count))\n",
    "print(\"----------------------\")\n",
    "print(\"Count of mice : \")\n",
    "print(mice_count) \n",
    "combined_df.loc[combined_df[\"Mouse ID\"]==\"g989\"] # <--duplicates sample"
   ]
  },
  {
   "cell_type": "code",
   "execution_count": 5,
   "metadata": {},
   "outputs": [
    {
     "data": {
      "text/html": [
       "<div>\n",
       "<style scoped>\n",
       "    .dataframe tbody tr th:only-of-type {\n",
       "        vertical-align: middle;\n",
       "    }\n",
       "\n",
       "    .dataframe tbody tr th {\n",
       "        vertical-align: top;\n",
       "    }\n",
       "\n",
       "    .dataframe thead th {\n",
       "        text-align: right;\n",
       "    }\n",
       "</style>\n",
       "<table border=\"1\" class=\"dataframe\">\n",
       "  <thead>\n",
       "    <tr style=\"text-align: right;\">\n",
       "      <th></th>\n",
       "      <th>Mouse ID</th>\n",
       "      <th>Drug Regimen</th>\n",
       "      <th>Sex</th>\n",
       "      <th>Age_months</th>\n",
       "      <th>Weight (g)</th>\n",
       "      <th>Timepoint</th>\n",
       "      <th>Tumor Volume (mm3)</th>\n",
       "      <th>Metastatic Sites</th>\n",
       "    </tr>\n",
       "  </thead>\n",
       "  <tbody>\n",
       "    <tr>\n",
       "      <th>909</th>\n",
       "      <td>g989</td>\n",
       "      <td>Propriva</td>\n",
       "      <td>Female</td>\n",
       "      <td>21</td>\n",
       "      <td>26</td>\n",
       "      <td>0</td>\n",
       "      <td>45.000000</td>\n",
       "      <td>0</td>\n",
       "    </tr>\n",
       "    <tr>\n",
       "      <th>911</th>\n",
       "      <td>g989</td>\n",
       "      <td>Propriva</td>\n",
       "      <td>Female</td>\n",
       "      <td>21</td>\n",
       "      <td>26</td>\n",
       "      <td>5</td>\n",
       "      <td>47.570392</td>\n",
       "      <td>0</td>\n",
       "    </tr>\n",
       "    <tr>\n",
       "      <th>913</th>\n",
       "      <td>g989</td>\n",
       "      <td>Propriva</td>\n",
       "      <td>Female</td>\n",
       "      <td>21</td>\n",
       "      <td>26</td>\n",
       "      <td>10</td>\n",
       "      <td>49.880528</td>\n",
       "      <td>0</td>\n",
       "    </tr>\n",
       "    <tr>\n",
       "      <th>915</th>\n",
       "      <td>g989</td>\n",
       "      <td>Propriva</td>\n",
       "      <td>Female</td>\n",
       "      <td>21</td>\n",
       "      <td>26</td>\n",
       "      <td>15</td>\n",
       "      <td>53.442020</td>\n",
       "      <td>0</td>\n",
       "    </tr>\n",
       "    <tr>\n",
       "      <th>917</th>\n",
       "      <td>g989</td>\n",
       "      <td>Propriva</td>\n",
       "      <td>Female</td>\n",
       "      <td>21</td>\n",
       "      <td>26</td>\n",
       "      <td>20</td>\n",
       "      <td>54.657650</td>\n",
       "      <td>1</td>\n",
       "    </tr>\n",
       "  </tbody>\n",
       "</table>\n",
       "</div>"
      ],
      "text/plain": [
       "    Mouse ID Drug Regimen     Sex  Age_months  Weight (g)  Timepoint  \\\n",
       "909     g989     Propriva  Female          21          26          0   \n",
       "911     g989     Propriva  Female          21          26          5   \n",
       "913     g989     Propriva  Female          21          26         10   \n",
       "915     g989     Propriva  Female          21          26         15   \n",
       "917     g989     Propriva  Female          21          26         20   \n",
       "\n",
       "     Tumor Volume (mm3)  Metastatic Sites  \n",
       "909           45.000000                 0  \n",
       "911           47.570392                 0  \n",
       "913           49.880528                 0  \n",
       "915           53.442020                 0  \n",
       "917           54.657650                 1  "
      ]
     },
     "execution_count": 5,
     "metadata": {},
     "output_type": "execute_result"
    }
   ],
   "source": [
    "# Getting the duplicate mice by ID number that shows up for Mouse ID and Timepoint.\n",
    "# Optional: Get all the data for the duplicate mouse ID. \n",
    "dup=combined_df[combined_df.duplicated([\"Mouse ID\", \"Timepoint\"],keep ='first')]\n",
    "dup"
   ]
  },
  {
   "cell_type": "code",
   "execution_count": 6,
   "metadata": {},
   "outputs": [],
   "source": [
    "# Create a clean DataFrame by dropping the duplicate mouse by its ID using \"drop_duplicates\" function.\n",
    "combined_clean_df=combined_df.drop_duplicates([\"Mouse ID\", \"Timepoint\"],keep ='first')"
   ]
  },
  {
   "cell_type": "code",
   "execution_count": 14,
   "metadata": {},
   "outputs": [
    {
     "data": {
      "text/plain": [
       "v991    10\n",
       "i557    10\n",
       "m601    10\n",
       "e213    10\n",
       "y478    10\n",
       "        ..\n",
       "x226     1\n",
       "x336     1\n",
       "h428     1\n",
       "o848     1\n",
       "u153     1\n",
       "Name: Mouse ID, Length: 249, dtype: int64"
      ]
     },
     "execution_count": 14,
     "metadata": {},
     "output_type": "execute_result"
    }
   ],
   "source": [
    "# Checking the number of mice in the clean DataFrame.\n",
    "combined_clean_df[\"Mouse ID\"].value_counts()"
   ]
  },
  {
   "cell_type": "code",
   "execution_count": 21,
   "metadata": {
    "scrolled": true
   },
   "outputs": [
    {
     "name": "stdout",
     "output_type": "stream",
     "text": [
      "Mouse ID              1888\n",
      "Drug Regimen          1888\n",
      "Sex                   1888\n",
      "Age_months            1888\n",
      "Weight (g)            1888\n",
      "Timepoint             1888\n",
      "Tumor Volume (mm3)    1888\n",
      "Metastatic Sites      1888\n",
      "dtype: int64\n",
      "---------\n",
      "Male      958\n",
      "Female    930\n",
      "Name: Sex, dtype: int64\n"
     ]
    }
   ],
   "source": [
    "# playground @@@@@@@@@@@@@@@@@@@@@@@@\n",
    "a= combined_clean_df[\"Sex\"].value_counts()\n",
    "b= combined_clean_df[\"Sex\"].count()\n",
    "c= combined_clean_df.count()\n",
    "\n",
    "#plt.plot(combined_clean_df.Timepoint, combined_clean_df[\"Tumor Volume (mm3)\"])\n",
    "#plt.title('Test')\n",
    "#plt.show()\n",
    "print(c)\n",
    "print('---------')\n",
    "print(a)"
   ]
  },
  {
   "cell_type": "markdown",
   "metadata": {},
   "source": [
    "## Summary Statistics"
   ]
  },
  {
   "cell_type": "code",
   "execution_count": 10,
   "metadata": {},
   "outputs": [
    {
     "data": {
      "text/html": [
       "<style  type=\"text/css\" >\n",
       "</style><table id=\"T_5202f9d4_ab6e_11ea_8bd1_f80f412b8562\" ><thead>    <tr>        <th class=\"blank level0\" ></th>        <th class=\"col_heading level0 col0\" >Mean</th>        <th class=\"col_heading level0 col1\" >Median</th>        <th class=\"col_heading level0 col2\" >Variance</th>        <th class=\"col_heading level0 col3\" >Standard Deviation</th>        <th class=\"col_heading level0 col4\" >SEM</th>    </tr></thead><tbody>\n",
       "                <tr>\n",
       "                        <th id=\"T_5202f9d4_ab6e_11ea_8bd1_f80f412b8562level0_row0\" class=\"row_heading level0 row0\" >0</th>\n",
       "                        <td id=\"T_5202f9d4_ab6e_11ea_8bd1_f80f412b8562row0_col0\" class=\"data row0 col0\" >50.45</td>\n",
       "                        <td id=\"T_5202f9d4_ab6e_11ea_8bd1_f80f412b8562row0_col1\" class=\"data row0 col1\" >48.95</td>\n",
       "                        <td id=\"T_5202f9d4_ab6e_11ea_8bd1_f80f412b8562row0_col2\" class=\"data row0 col2\" >79.29</td>\n",
       "                        <td id=\"T_5202f9d4_ab6e_11ea_8bd1_f80f412b8562row0_col3\" class=\"data row0 col3\" >8.90</td>\n",
       "                        <td id=\"T_5202f9d4_ab6e_11ea_8bd1_f80f412b8562row0_col4\" class=\"data row0 col4\" >0.20</td>\n",
       "            </tr>\n",
       "    </tbody></table>"
      ],
      "text/plain": [
       "<pandas.io.formats.style.Styler at 0x2cba9a25548>"
      ]
     },
     "execution_count": 10,
     "metadata": {},
     "output_type": "execute_result"
    }
   ],
   "source": [
    "# summary stat for Tumor Volume of the entire regimen\n",
    "mean_all = combined_clean_df[\"Tumor Volume (mm3)\"].mean()\n",
    "median_all = combined_clean_df[\"Tumor Volume (mm3)\"].median()\n",
    "var_all = combined_clean_df[\"Tumor Volume (mm3)\"].var()\n",
    "std_all = combined_clean_df[\"Tumor Volume (mm3)\"].std()\n",
    "sem_all = combined_clean_df[\"Tumor Volume (mm3)\"].sem()\n",
    "\n",
    "Summary_allStat_df=pd.DataFrame({\"Mean\":[mean_all],\"Median\":median_all, \"Variance\":var_all, \n",
    "                              \"Standard Deviation\":std_all,\"SEM\":sem_all})\n",
    "Summary_allStat_df.head(10).style.format({\"Mean\":\"{:.2f}\",\"Median\":\"{:.2f}\", \"Variance\":\"{:.2f}\", \n",
    "                              \"Standard Deviation\":\"{:.2f}\",\"SEM\":\"{:.2f}\"})"
   ]
  },
  {
   "cell_type": "code",
   "execution_count": 11,
   "metadata": {
    "scrolled": true
   },
   "outputs": [
    {
     "data": {
      "text/html": [
       "<style  type=\"text/css\" >\n",
       "</style><table id=\"T_5264e4a8_ab6e_11ea_9e93_f80f412b8562\" ><thead>    <tr>        <th class=\"blank level0\" ></th>        <th class=\"col_heading level0 col0\" >Mean</th>        <th class=\"col_heading level0 col1\" >Median</th>        <th class=\"col_heading level0 col2\" >Variance</th>        <th class=\"col_heading level0 col3\" >Standard Deviation</th>        <th class=\"col_heading level0 col4\" >SEM</th>    </tr>    <tr>        <th class=\"index_name level0\" >Drug Regimen</th>        <th class=\"blank\" ></th>        <th class=\"blank\" ></th>        <th class=\"blank\" ></th>        <th class=\"blank\" ></th>        <th class=\"blank\" ></th>    </tr></thead><tbody>\n",
       "                <tr>\n",
       "                        <th id=\"T_5264e4a8_ab6e_11ea_9e93_f80f412b8562level0_row0\" class=\"row_heading level0 row0\" >Capomulin</th>\n",
       "                        <td id=\"T_5264e4a8_ab6e_11ea_9e93_f80f412b8562row0_col0\" class=\"data row0 col0\" >40.68</td>\n",
       "                        <td id=\"T_5264e4a8_ab6e_11ea_9e93_f80f412b8562row0_col1\" class=\"data row0 col1\" >41.56</td>\n",
       "                        <td id=\"T_5264e4a8_ab6e_11ea_9e93_f80f412b8562row0_col2\" class=\"data row0 col2\" >24.95</td>\n",
       "                        <td id=\"T_5264e4a8_ab6e_11ea_9e93_f80f412b8562row0_col3\" class=\"data row0 col3\" >4.99</td>\n",
       "                        <td id=\"T_5264e4a8_ab6e_11ea_9e93_f80f412b8562row0_col4\" class=\"data row0 col4\" >0.33</td>\n",
       "            </tr>\n",
       "            <tr>\n",
       "                        <th id=\"T_5264e4a8_ab6e_11ea_9e93_f80f412b8562level0_row1\" class=\"row_heading level0 row1\" >Ceftamin</th>\n",
       "                        <td id=\"T_5264e4a8_ab6e_11ea_9e93_f80f412b8562row1_col0\" class=\"data row1 col0\" >52.59</td>\n",
       "                        <td id=\"T_5264e4a8_ab6e_11ea_9e93_f80f412b8562row1_col1\" class=\"data row1 col1\" >51.78</td>\n",
       "                        <td id=\"T_5264e4a8_ab6e_11ea_9e93_f80f412b8562row1_col2\" class=\"data row1 col2\" >39.29</td>\n",
       "                        <td id=\"T_5264e4a8_ab6e_11ea_9e93_f80f412b8562row1_col3\" class=\"data row1 col3\" >6.27</td>\n",
       "                        <td id=\"T_5264e4a8_ab6e_11ea_9e93_f80f412b8562row1_col4\" class=\"data row1 col4\" >0.47</td>\n",
       "            </tr>\n",
       "            <tr>\n",
       "                        <th id=\"T_5264e4a8_ab6e_11ea_9e93_f80f412b8562level0_row2\" class=\"row_heading level0 row2\" >Infubinol</th>\n",
       "                        <td id=\"T_5264e4a8_ab6e_11ea_9e93_f80f412b8562row2_col0\" class=\"data row2 col0\" >52.88</td>\n",
       "                        <td id=\"T_5264e4a8_ab6e_11ea_9e93_f80f412b8562row2_col1\" class=\"data row2 col1\" >51.82</td>\n",
       "                        <td id=\"T_5264e4a8_ab6e_11ea_9e93_f80f412b8562row2_col2\" class=\"data row2 col2\" >43.13</td>\n",
       "                        <td id=\"T_5264e4a8_ab6e_11ea_9e93_f80f412b8562row2_col3\" class=\"data row2 col3\" >6.57</td>\n",
       "                        <td id=\"T_5264e4a8_ab6e_11ea_9e93_f80f412b8562row2_col4\" class=\"data row2 col4\" >0.49</td>\n",
       "            </tr>\n",
       "            <tr>\n",
       "                        <th id=\"T_5264e4a8_ab6e_11ea_9e93_f80f412b8562level0_row3\" class=\"row_heading level0 row3\" >Ketapril</th>\n",
       "                        <td id=\"T_5264e4a8_ab6e_11ea_9e93_f80f412b8562row3_col0\" class=\"data row3 col0\" >55.24</td>\n",
       "                        <td id=\"T_5264e4a8_ab6e_11ea_9e93_f80f412b8562row3_col1\" class=\"data row3 col1\" >53.70</td>\n",
       "                        <td id=\"T_5264e4a8_ab6e_11ea_9e93_f80f412b8562row3_col2\" class=\"data row3 col2\" >68.55</td>\n",
       "                        <td id=\"T_5264e4a8_ab6e_11ea_9e93_f80f412b8562row3_col3\" class=\"data row3 col3\" >8.28</td>\n",
       "                        <td id=\"T_5264e4a8_ab6e_11ea_9e93_f80f412b8562row3_col4\" class=\"data row3 col4\" >0.60</td>\n",
       "            </tr>\n",
       "            <tr>\n",
       "                        <th id=\"T_5264e4a8_ab6e_11ea_9e93_f80f412b8562level0_row4\" class=\"row_heading level0 row4\" >Naftisol</th>\n",
       "                        <td id=\"T_5264e4a8_ab6e_11ea_9e93_f80f412b8562row4_col0\" class=\"data row4 col0\" >54.33</td>\n",
       "                        <td id=\"T_5264e4a8_ab6e_11ea_9e93_f80f412b8562row4_col1\" class=\"data row4 col1\" >52.51</td>\n",
       "                        <td id=\"T_5264e4a8_ab6e_11ea_9e93_f80f412b8562row4_col2\" class=\"data row4 col2\" >66.17</td>\n",
       "                        <td id=\"T_5264e4a8_ab6e_11ea_9e93_f80f412b8562row4_col3\" class=\"data row4 col3\" >8.13</td>\n",
       "                        <td id=\"T_5264e4a8_ab6e_11ea_9e93_f80f412b8562row4_col4\" class=\"data row4 col4\" >0.60</td>\n",
       "            </tr>\n",
       "            <tr>\n",
       "                        <th id=\"T_5264e4a8_ab6e_11ea_9e93_f80f412b8562level0_row5\" class=\"row_heading level0 row5\" >Placebo</th>\n",
       "                        <td id=\"T_5264e4a8_ab6e_11ea_9e93_f80f412b8562row5_col0\" class=\"data row5 col0\" >54.03</td>\n",
       "                        <td id=\"T_5264e4a8_ab6e_11ea_9e93_f80f412b8562row5_col1\" class=\"data row5 col1\" >52.29</td>\n",
       "                        <td id=\"T_5264e4a8_ab6e_11ea_9e93_f80f412b8562row5_col2\" class=\"data row5 col2\" >61.17</td>\n",
       "                        <td id=\"T_5264e4a8_ab6e_11ea_9e93_f80f412b8562row5_col3\" class=\"data row5 col3\" >7.82</td>\n",
       "                        <td id=\"T_5264e4a8_ab6e_11ea_9e93_f80f412b8562row5_col4\" class=\"data row5 col4\" >0.58</td>\n",
       "            </tr>\n",
       "            <tr>\n",
       "                        <th id=\"T_5264e4a8_ab6e_11ea_9e93_f80f412b8562level0_row6\" class=\"row_heading level0 row6\" >Propriva</th>\n",
       "                        <td id=\"T_5264e4a8_ab6e_11ea_9e93_f80f412b8562row6_col0\" class=\"data row6 col0\" >52.39</td>\n",
       "                        <td id=\"T_5264e4a8_ab6e_11ea_9e93_f80f412b8562row6_col1\" class=\"data row6 col1\" >50.91</td>\n",
       "                        <td id=\"T_5264e4a8_ab6e_11ea_9e93_f80f412b8562row6_col2\" class=\"data row6 col2\" >43.14</td>\n",
       "                        <td id=\"T_5264e4a8_ab6e_11ea_9e93_f80f412b8562row6_col3\" class=\"data row6 col3\" >6.57</td>\n",
       "                        <td id=\"T_5264e4a8_ab6e_11ea_9e93_f80f412b8562row6_col4\" class=\"data row6 col4\" >0.53</td>\n",
       "            </tr>\n",
       "            <tr>\n",
       "                        <th id=\"T_5264e4a8_ab6e_11ea_9e93_f80f412b8562level0_row7\" class=\"row_heading level0 row7\" >Ramicane</th>\n",
       "                        <td id=\"T_5264e4a8_ab6e_11ea_9e93_f80f412b8562row7_col0\" class=\"data row7 col0\" >40.22</td>\n",
       "                        <td id=\"T_5264e4a8_ab6e_11ea_9e93_f80f412b8562row7_col1\" class=\"data row7 col1\" >40.67</td>\n",
       "                        <td id=\"T_5264e4a8_ab6e_11ea_9e93_f80f412b8562row7_col2\" class=\"data row7 col2\" >23.49</td>\n",
       "                        <td id=\"T_5264e4a8_ab6e_11ea_9e93_f80f412b8562row7_col3\" class=\"data row7 col3\" >4.85</td>\n",
       "                        <td id=\"T_5264e4a8_ab6e_11ea_9e93_f80f412b8562row7_col4\" class=\"data row7 col4\" >0.32</td>\n",
       "            </tr>\n",
       "            <tr>\n",
       "                        <th id=\"T_5264e4a8_ab6e_11ea_9e93_f80f412b8562level0_row8\" class=\"row_heading level0 row8\" >Stelasyn</th>\n",
       "                        <td id=\"T_5264e4a8_ab6e_11ea_9e93_f80f412b8562row8_col0\" class=\"data row8 col0\" >54.23</td>\n",
       "                        <td id=\"T_5264e4a8_ab6e_11ea_9e93_f80f412b8562row8_col1\" class=\"data row8 col1\" >52.43</td>\n",
       "                        <td id=\"T_5264e4a8_ab6e_11ea_9e93_f80f412b8562row8_col2\" class=\"data row8 col2\" >59.45</td>\n",
       "                        <td id=\"T_5264e4a8_ab6e_11ea_9e93_f80f412b8562row8_col3\" class=\"data row8 col3\" >7.71</td>\n",
       "                        <td id=\"T_5264e4a8_ab6e_11ea_9e93_f80f412b8562row8_col4\" class=\"data row8 col4\" >0.57</td>\n",
       "            </tr>\n",
       "            <tr>\n",
       "                        <th id=\"T_5264e4a8_ab6e_11ea_9e93_f80f412b8562level0_row9\" class=\"row_heading level0 row9\" >Zoniferol</th>\n",
       "                        <td id=\"T_5264e4a8_ab6e_11ea_9e93_f80f412b8562row9_col0\" class=\"data row9 col0\" >53.24</td>\n",
       "                        <td id=\"T_5264e4a8_ab6e_11ea_9e93_f80f412b8562row9_col1\" class=\"data row9 col1\" >51.82</td>\n",
       "                        <td id=\"T_5264e4a8_ab6e_11ea_9e93_f80f412b8562row9_col2\" class=\"data row9 col2\" >48.53</td>\n",
       "                        <td id=\"T_5264e4a8_ab6e_11ea_9e93_f80f412b8562row9_col3\" class=\"data row9 col3\" >6.97</td>\n",
       "                        <td id=\"T_5264e4a8_ab6e_11ea_9e93_f80f412b8562row9_col4\" class=\"data row9 col4\" >0.52</td>\n",
       "            </tr>\n",
       "    </tbody></table>"
      ],
      "text/plain": [
       "<pandas.io.formats.style.Styler at 0x2cba9b15cc8>"
      ]
     },
     "execution_count": 11,
     "metadata": {},
     "output_type": "execute_result"
    }
   ],
   "source": [
    "# Generate a summary statistics table of mean, median, variance, standard deviation, and SEM of the tumor volume for each regimen\n",
    "# This method produces everything in a single groupby function.\n",
    "\n",
    "byDrug = combined_clean_df.groupby(\"Drug Regimen\")[\"Tumor Volume (mm3)\"]\n",
    "\n",
    "mean_drug= byDrug.mean()\n",
    "median_drug= byDrug.median()\n",
    "var_drug= byDrug.var()\n",
    "std_drug= byDrug.std()\n",
    "sem_drug= byDrug.sem()\n",
    "\n",
    "Summary_stat_df=pd.DataFrame({\"Mean\":mean_drug,\"Median\":median_drug, \"Variance\":var_drug, \n",
    "                              \"Standard Deviation\":std_drug,\"SEM\":sem_drug})\n",
    "Summary_stat_df.head(10).style.format({\"Mean\":\"{:.2f}\",\"Median\":\"{:.2f}\", \"Variance\":\"{:.2f}\", \n",
    "                              \"Standard Deviation\":\"{:.2f}\",\"SEM\":\"{:.2f}\"})\n"
   ]
  },
  {
   "cell_type": "code",
   "execution_count": 24,
   "metadata": {},
   "outputs": [
    {
     "data": {
      "text/plain": [
       "([<matplotlib.axis.XTick at 0x2cbb01cef08>,\n",
       "  <matplotlib.axis.XTick at 0x2cbb09eb288>,\n",
       "  <matplotlib.axis.XTick at 0x2cbb09e8948>,\n",
       "  <matplotlib.axis.XTick at 0x2cbb0a259c8>,\n",
       "  <matplotlib.axis.XTick at 0x2cbb0a29ac8>],\n",
       " <a list of 5 Text xticklabel objects>)"
      ]
     },
     "execution_count": 24,
     "metadata": {},
     "output_type": "execute_result"
    },
    {
     "data": {
      "image/png": "[encoded data removed]",
      "text/plain": [
       "<Figure size 432x288 with 1 Axes>"
      ]
     },
     "metadata": {
      "needs_background": "light"
     },
     "output_type": "display_data"
    }
   ],
   "source": [
    "# play around @@@@@@\n",
    "\n",
    "x_axis= combined_clean_df[\"Timepoint\"].unique()\n",
    "plt.plot(x_axis, mean_drug, 'r.-')\n",
    "plt.xticks(x_axis[::2])"
   ]
  },
  {
   "cell_type": "markdown",
   "metadata": {},
   "source": [
    "## Bar Plots"
   ]
  },
  {
   "cell_type": "code",
   "execution_count": 25,
   "metadata": {},
   "outputs": [],
   "source": [
    "#Condition for each treatment\n",
    "Capomulin_df = combined_clean_df.loc[combined_clean_df[\"Drug Regimen\"]==\"Capomulin\"]\n",
    "Ceftamin_df = combined_clean_df.loc[combined_clean_df[\"Drug Regimen\"]==\"Ceftamin\"]\n",
    "Infubinol_df = combined_clean_df.loc[combined_clean_df[\"Drug Regimen\"]==\"Infubinol\"]\n",
    "Ketapril_df = combined_clean_df.loc[combined_clean_df[\"Drug Regimen\"]==\"Ketapril\"]\n",
    "Naftisol_df = combined_clean_df.loc[combined_clean_df[\"Drug Regimen\"]==\"Naftisol\"]\n",
    "Placebo_df = combined_clean_df.loc[combined_clean_df[\"Drug Regimen\"]==\"Placebo\"]\n",
    "Propriva_df = combined_clean_df.loc[combined_clean_df[\"Drug Regimen\"]==\"Propriva\"]\n",
    "Ramicane_df = combined_clean_df.loc[combined_clean_df[\"Drug Regimen\"]==\"Ramicane\"]\n",
    "Stelasyn_df = combined_clean_df.loc[combined_clean_df[\"Drug Regimen\"]==\"Stelasyn\"]\n",
    "Zoniferol_df = combined_clean_df.loc[combined_clean_df[\"Drug Regimen\"]==\"Zoniferol\"]"
   ]
  },
  {
   "cell_type": "markdown",
   "metadata": {},
   "source": [
    "Bar using Pandas"
   ]
  },
  {
   "cell_type": "code",
   "execution_count": 28,
   "metadata": {},
   "outputs": [
    {
     "data": {
      "text/plain": [
       "<matplotlib.axes._subplots.AxesSubplot at 0x2cbb0ad6288>"
      ]
     },
     "execution_count": 28,
     "metadata": {},
     "output_type": "execute_result"
    },
    {
     "data": {
      "image/png": "[encoded data removed]",
      "text/plain": [
       "<Figure size 432x288 with 1 Axes>"
      ]
     },
     "metadata": {
      "needs_background": "light"
     },
     "output_type": "display_data"
    }
   ],
   "source": [
    "# Generate a bar plot showing the number of mice per time point for each treatment throughout the course of the study using pandas.\n",
    "\n",
    "#groupby \"Timepoint\"   --> x-axis\n",
    "Capomulin_grp = Capomulin_df.groupby(\"Timepoint\")\n",
    "#number of mice per timepoint  --> y value\n",
    "nMice_Capomulin = Capomulin_grp[\"Mouse ID\"].count()  # it is pandas series. index used as x-axis\n",
    "\n",
    "ax1 = nMice_Capomulin.plot(kind=\"bar\", rot=0)\n",
    "plt.title(\"Capomulin: the number of mice per time point\")\n",
    "plt.ylabel(\"Number of mice\")\n",
    "ax1 "
   ]
  },
  {
   "cell_type": "code",
   "execution_count": 22,
   "metadata": {
    "scrolled": true
   },
   "outputs": [
    {
     "data": {
      "text/plain": [
       "<matplotlib.axes._subplots.AxesSubplot at 0x1fd9b30b048>"
      ]
     },
     "execution_count": 22,
     "metadata": {},
     "output_type": "execute_result"
    },
    {
     "data": {
      "image/png": "[encoded data removed]",
      "text/plain": [
       "<Figure size 432x288 with 1 Axes>"
      ]
     },
     "metadata": {
      "needs_background": "light"
     },
     "output_type": "display_data"
    }
   ],
   "source": [
    "# repeat the first for each drug\n",
    "\n",
    "Ceftamin_grp = Ceftamin_df.groupby(\"Timepoint\")\n",
    "nMice_Ceftamin = Ceftamin_grp[\"Mouse ID\"].count()  # it is pandas series. index used as x-axis\n",
    "\n",
    "ax2 = nMice_Ceftamin.plot(kind=\"bar\", rot=0)\n",
    "plt.title(\"Ceftamin: the number of mice per time point\")\n",
    "plt.ylabel(\"Number of mice\")\n",
    "ax2 "
   ]
  },
  {
   "cell_type": "code",
   "execution_count": 23,
   "metadata": {},
   "outputs": [
    {
     "data": {
      "text/plain": [
       "<matplotlib.axes._subplots.AxesSubplot at 0x1fd9b37f7c8>"
      ]
     },
     "execution_count": 23,
     "metadata": {},
     "output_type": "execute_result"
    },
    {
     "data": {
      "image/png": "[encoded data removed]",
      "text/plain": [
       "<Figure size 432x288 with 1 Axes>"
      ]
     },
     "metadata": {
      "needs_background": "light"
     },
     "output_type": "display_data"
    }
   ],
   "source": [
    "Infubinol_grp = Infubinol_df.groupby(\"Timepoint\")\n",
    "nMice_Infubinol = Infubinol_grp[\"Mouse ID\"].count()  # it is pandas series. index used as x-axis\n",
    "\n",
    "ax3 = nMice_Infubinol.plot.bar(rot=0)\n",
    "plt.title(\"Infubinol: the number of mice per time point\")\n",
    "plt.ylabel(\"Number of mice\")\n",
    "ax3 "
   ]
  },
  {
   "cell_type": "code",
   "execution_count": 24,
   "metadata": {},
   "outputs": [
    {
     "data": {
      "text/plain": [
       "<matplotlib.axes._subplots.AxesSubplot at 0x1fd9b2d6c88>"
      ]
     },
     "execution_count": 24,
     "metadata": {},
     "output_type": "execute_result"
    },
    {
     "data": {
      "image/png": "[encoded data removed]",
      "text/plain": [
       "<Figure size 432x288 with 1 Axes>"
      ]
     },
     "metadata": {
      "needs_background": "light"
     },
     "output_type": "display_data"
    }
   ],
   "source": [
    "Ketapril_grp = Ketapril_df.groupby(\"Timepoint\")\n",
    "nMice_Ketapril = Ketapril_grp[\"Mouse ID\"].count()  \n",
    "\n",
    "ax4 = nMice_Ketapril.plot.bar(rot=0)\n",
    "plt.title(\"Ketapril: the number of mice per time point\")\n",
    "plt.ylabel(\"Number of mice\")\n",
    "ax4 "
   ]
  },
  {
   "cell_type": "code",
   "execution_count": 25,
   "metadata": {},
   "outputs": [
    {
     "data": {
      "text/plain": [
       "<matplotlib.axes._subplots.AxesSubplot at 0x1fd9b4195c8>"
      ]
     },
     "execution_count": 25,
     "metadata": {},
     "output_type": "execute_result"
    },
    {
     "data": {
      "image/png": "[encoded data removed]",
      "text/plain": [
       "<Figure size 432x288 with 1 Axes>"
      ]
     },
     "metadata": {
      "needs_background": "light"
     },
     "output_type": "display_data"
    }
   ],
   "source": [
    "Naftisol_grp = Naftisol_df.groupby(\"Timepoint\")\n",
    "nMice_Naftisol = Naftisol_grp[\"Mouse ID\"].count()  # it is pandas series. index used as x-axis\n",
    "\n",
    "ax5 = nMice_Naftisol.plot.bar(rot=0)\n",
    "plt.title(\"Naftisol: the number of mice per time point\")\n",
    "plt.ylabel(\"Number of mice\")\n",
    "ax5 "
   ]
  },
  {
   "cell_type": "code",
   "execution_count": 26,
   "metadata": {},
   "outputs": [
    {
     "data": {
      "text/plain": [
       "<matplotlib.axes._subplots.AxesSubplot at 0x1fd9b4a0688>"
      ]
     },
     "execution_count": 26,
     "metadata": {},
     "output_type": "execute_result"
    },
    {
     "data": {
      "image/png": "[encoded data removed]",
      "text/plain": [
       "<Figure size 432x288 with 1 Axes>"
      ]
     },
     "metadata": {
      "needs_background": "light"
     },
     "output_type": "display_data"
    }
   ],
   "source": [
    "Placebo_grp = Placebo_df.groupby(\"Timepoint\")\n",
    "nMice_Placebo = Placebo_grp[\"Mouse ID\"].count()  # it is pandas series. index used as x-axis\n",
    "\n",
    "ax6 = nMice_Placebo.plot.bar(rot=0)\n",
    "plt.title(\"Placebo: the number of mice per time point\")\n",
    "plt.ylabel(\"Number of mice\")\n",
    "ax6 "
   ]
  },
  {
   "cell_type": "code",
   "execution_count": 27,
   "metadata": {},
   "outputs": [
    {
     "data": {
      "text/plain": [
       "<matplotlib.axes._subplots.AxesSubplot at 0x1fd9b5ab108>"
      ]
     },
     "execution_count": 27,
     "metadata": {},
     "output_type": "execute_result"
    },
    {
     "data": {
      "image/png": "[encoded data removed]",
      "text/plain": [
       "<Figure size 432x288 with 1 Axes>"
      ]
     },
     "metadata": {
      "needs_background": "light"
     },
     "output_type": "display_data"
    }
   ],
   "source": [
    "Propriva_grp = Propriva_df.groupby(\"Timepoint\")\n",
    "nMice_Propriva = Propriva_grp[\"Mouse ID\"].count()  # it is pandas series. index used as x-axis\n",
    "\n",
    "ax7 = nMice_Propriva.plot.bar(rot=0)\n",
    "plt.title(\"Propriva: the number of mice per time point\")\n",
    "plt.ylabel(\"Number of mice\")\n",
    "ax7 "
   ]
  },
  {
   "cell_type": "code",
   "execution_count": 28,
   "metadata": {},
   "outputs": [
    {
     "data": {
      "text/plain": [
       "<matplotlib.axes._subplots.AxesSubplot at 0x1fd9b572188>"
      ]
     },
     "execution_count": 28,
     "metadata": {},
     "output_type": "execute_result"
    },
    {
     "data": {
      "image/png": "[encoded data removed]",
      "text/plain": [
       "<Figure size 432x288 with 1 Axes>"
      ]
     },
     "metadata": {
      "needs_background": "light"
     },
     "output_type": "display_data"
    }
   ],
   "source": [
    "Ramicane_grp = Ramicane_df.groupby(\"Timepoint\")\n",
    "nMice_Ramicane = Ramicane_grp[\"Mouse ID\"].count()  # it is pandas series. index used as x-axis\n",
    "\n",
    "ax8 = nMice_Ramicane.plot.bar(rot=0)\n",
    "plt.title(\"Ramicane: the number of mice per time point\")\n",
    "plt.ylabel(\"Number of mice\")\n",
    "ax8 "
   ]
  },
  {
   "cell_type": "code",
   "execution_count": 29,
   "metadata": {},
   "outputs": [
    {
     "data": {
      "text/plain": [
       "<matplotlib.axes._subplots.AxesSubplot at 0x1fd9b411608>"
      ]
     },
     "execution_count": 29,
     "metadata": {},
     "output_type": "execute_result"
    },
    {
     "data": {
      "image/png": "[encoded data removed]",
      "text/plain": [
       "<Figure size 432x288 with 1 Axes>"
      ]
     },
     "metadata": {
      "needs_background": "light"
     },
     "output_type": "display_data"
    }
   ],
   "source": [
    "Stelasyn_grp = Stelasyn_df.groupby(\"Timepoint\")\n",
    "nMice_Stelasyn = Stelasyn_grp[\"Mouse ID\"].count()  # it is pandas series. index used as x-axis\n",
    "\n",
    "ax9 = nMice_Stelasyn.plot.bar(rot=0)\n",
    "plt.title(\"Stelasyn: the number of mice per time point\")\n",
    "plt.ylabel(\"Number of mice\")\n",
    "ax9 "
   ]
  },
  {
   "cell_type": "code",
   "execution_count": 30,
   "metadata": {},
   "outputs": [
    {
     "data": {
      "text/plain": [
       "<matplotlib.axes._subplots.AxesSubplot at 0x1fd9b738288>"
      ]
     },
     "execution_count": 30,
     "metadata": {},
     "output_type": "execute_result"
    },
    {
     "data": {
      "image/png": "[encoded data removed]",
      "text/plain": [
       "<Figure size 432x288 with 1 Axes>"
      ]
     },
     "metadata": {
      "needs_background": "light"
     },
     "output_type": "display_data"
    }
   ],
   "source": [
    "Zoniferol_grp = Zoniferol_df.groupby(\"Timepoint\")\n",
    "nMice_Zoniferol = Zoniferol_grp[\"Mouse ID\"].count()  # it is pandas series. index used as x-axis\n",
    "\n",
    "ax10 = nMice_Zoniferol.plot(kind=\"bar\", rot=0)\n",
    "plt.title(\"Zoniferol: the number of mice per time point\")\n",
    "plt.ylabel(\"Number of mice\")\n",
    "ax10 "
   ]
  },
  {
   "cell_type": "markdown",
   "metadata": {},
   "source": [
    "Bar using pyplot"
   ]
  },
  {
   "cell_type": "code",
   "execution_count": 38,
   "metadata": {
    "scrolled": false
   },
   "outputs": [
    {
     "data": {
      "image/png": "[encoded data removed]",
      "text/plain": [
       "<Figure size 432x288 with 1 Axes>"
      ]
     },
     "metadata": {
      "needs_background": "light"
     },
     "output_type": "display_data"
    },
    {
     "data": {
      "text/plain": [
       "<Figure size 432x288 with 0 Axes>"
      ]
     },
     "metadata": {},
     "output_type": "display_data"
    },
    {
     "data": {
      "image/png": "[encoded data removed]",
      "text/plain": [
       "<Figure size 432x288 with 1 Axes>"
      ]
     },
     "metadata": {
      "needs_background": "light"
     },
     "output_type": "display_data"
    },
    {
     "data": {
      "image/png": "[encoded data removed]",
      "text/plain": [
       "<Figure size 432x288 with 1 Axes>"
      ]
     },
     "metadata": {
      "needs_background": "light"
     },
     "output_type": "display_data"
    },
    {
     "data": {
      "image/png": "[encoded data removed]",
      "text/plain": [
       "<Figure size 432x288 with 1 Axes>"
      ]
     },
     "metadata": {
      "needs_background": "light"
     },
     "output_type": "display_data"
    },
    {
     "data": {
      "image/png": "[encoded data removed]",
      "text/plain": [
       "<Figure size 432x288 with 1 Axes>"
      ]
     },
     "metadata": {
      "needs_background": "light"
     },
     "output_type": "display_data"
    },
    {
     "data": {
      "image/png": "[encoded data removed]",
      "text/plain": [
       "<Figure size 432x288 with 1 Axes>"
      ]
     },
     "metadata": {
      "needs_background": "light"
     },
     "output_type": "display_data"
    },
    {
     "data": {
      "image/png": "[encoded data removed]",
      "text/plain": [
       "<Figure size 432x288 with 1 Axes>"
      ]
     },
     "metadata": {
      "needs_background": "light"
     },
     "output_type": "display_data"
    },
    {
     "data": {
      "image/png": "[encoded data removed]",
      "text/plain": [
       "<Figure size 432x288 with 1 Axes>"
      ]
     },
     "metadata": {
      "needs_background": "light"
     },
     "output_type": "display_data"
    },
    {
     "data": {
      "image/png": "[encoded data removed]",
      "text/plain": [
       "<Figure size 432x288 with 1 Axes>"
      ]
     },
     "metadata": {
      "needs_background": "light"
     },
     "output_type": "display_data"
    },
    {
     "data": {
      "image/png": "[encoded data removed]",
      "text/plain": [
       "<Figure size 432x288 with 1 Axes>"
      ]
     },
     "metadata": {
      "needs_background": "light"
     },
     "output_type": "display_data"
    }
   ],
   "source": [
    "# Generate a bar plot showing the number of mice per time point for each treatment throughout the course of the study using pyplot.\n",
    "\n",
    "#define x-axis : unique value from \"Timepoint\" column. All drugs share this x-axis.\n",
    "x_axis= Capomulin_df[\"Timepoint\"].unique()\n",
    "\n",
    "#ploting bar chart\n",
    "plt.bar(x_axis, nMice_Capomulin, width=2.5,color='blue')\n",
    "plt.title(\"Capomulin: the number of mice per time point\")\n",
    "#x-axis label\n",
    "plt.xlabel(\"Timepoint\")\n",
    "#y-axis label\n",
    "plt.ylabel(\"Number of mice\")\n",
    "#x-axis ticks\n",
    "plt.xticks(x_axis)\n",
    "#chart size\n",
    "plt.figure(figsize=(6,4))\n",
    "\n",
    "plt.figure(figsize=(6,4))\n",
    "plt.bar(x_axis, nMice_Ceftamin, width=2.5,color='blue')\n",
    "plt.title(\"Ceftamin: the number of mice per time point\")\n",
    "plt.xlabel(\"Timepoint\")\n",
    "plt.ylabel(\"Number of mice\")\n",
    "plt.xticks(x_axis)\n",
    "\n",
    "plt.figure(figsize=(6,4))\n",
    "plt.bar(x_axis, nMice_Infubinol, width=2.5,color='blue')\n",
    "plt.title(\"Infubinol: the number of mice per time point\")\n",
    "plt.xlabel(\"Timepoint\")\n",
    "plt.ylabel(\"Number of mice\")\n",
    "plt.xticks(x_axis)\n",
    "\n",
    "plt.figure(figsize=(6,4))\n",
    "plt.bar(x_axis, nMice_Ketapril, width=2.5,color='blue')\n",
    "plt.title(\"Ketapril: the number of mice per time point\")\n",
    "plt.xlabel(\"Timepoint\")\n",
    "plt.ylabel(\"Number of mice\")\n",
    "plt.xticks(x_axis)\n",
    "\n",
    "plt.figure(figsize=(6,4))\n",
    "plt.bar(x_axis, nMice_Naftisol, width=2.5,color='blue')\n",
    "plt.title(\"Naftisol: the number of mice per time point\")\n",
    "plt.xlabel(\"Timepoint\")\n",
    "plt.ylabel(\"Number of mice\")\n",
    "plt.xticks(x_axis)\n",
    "\n",
    "plt.figure(figsize=(6,4))\n",
    "plt.bar(x_axis, nMice_Placebo, width=2.5,color='blue')\n",
    "plt.title(\"Placebo: the number of mice per time point\")\n",
    "plt.xlabel(\"Timepoint\")\n",
    "plt.ylabel(\"Number of mice\")\n",
    "plt.xticks(x_axis)\n",
    "\n",
    "plt.figure(figsize=(6,4))\n",
    "plt.bar(x_axis, nMice_Propriva, width=2.5,color='blue')\n",
    "plt.title(\"Propriva: the number of mice per time point\")\n",
    "plt.xlabel(\"Timepoint\")\n",
    "plt.ylabel(\"Number of mice\")\n",
    "plt.xticks(x_axis)\n",
    "\n",
    "plt.figure(figsize=(6,4))\n",
    "plt.bar(x_axis, nMice_Ramicane, width=2.5,color='blue')\n",
    "plt.title(\"Ramicane: the number of mice per time point\")\n",
    "plt.xlabel(\"Timepoint\")\n",
    "plt.ylabel(\"Number of mice\")\n",
    "plt.xticks(x_axis)\n",
    "\n",
    "plt.figure(figsize=(6,4))\n",
    "plt.bar(x_axis, nMice_Stelasyn, width=2.5,color='blue')\n",
    "plt.title(\"Stelasyn: the number of mice per time point\")\n",
    "plt.xlabel(\"Timepoint\")\n",
    "plt.ylabel(\"Number of mice\")\n",
    "plt.xticks(x_axis)\n",
    "\n",
    "plt.figure(figsize=(6,4))\n",
    "plt.bar(x_axis, nMice_Zoniferol, width=2.5,color='blue')\n",
    "plt.title(\"Zoniferol: the number of mice per time point\")\n",
    "plt.xlabel(\"Timepoint\")\n",
    "plt.ylabel(\"Number of mice\")\n",
    "plt.xticks(x_axis)\n",
    "\n",
    "plt.show()\n"
   ]
  },
  {
   "cell_type": "markdown",
   "metadata": {},
   "source": [
    "## Pie Plots"
   ]
  },
  {
   "cell_type": "code",
   "execution_count": 52,
   "metadata": {},
   "outputs": [
    {
     "data": {
      "image/png": "[encoded data removed]",
      "text/plain": [
       "<Figure size 360x360 with 1 Axes>"
      ]
     },
     "metadata": {},
     "output_type": "display_data"
    }
   ],
   "source": [
    "# Generate a pie plot showing the distribution of female versus male mice using pandas\n",
    "\n",
    "# count of mice by sex\n",
    "countOfmice_sex = combined_clean_df['Sex'].value_counts()\n",
    "ax = countOfmice_sex.plot(kind='pie', autopct='%.2f%%',title=\"Distribution of Sex of mice\",label = \"\",fontsize = 13, legend = True,figsize =(5,5))"
   ]
  },
  {
   "cell_type": "code",
   "execution_count": 51,
   "metadata": {},
   "outputs": [
    {
     "data": {
      "image/png": "[encoded data removed]",
      "text/plain": [
       "<Figure size 360x360 with 1 Axes>"
      ]
     },
     "metadata": {},
     "output_type": "display_data"
    }
   ],
   "source": [
    "# Generate a pie plot showing the distribution of female versus male mice using pyplot\n",
    "countOfmice_sex = combined_clean_df['Sex'].value_counts()\n",
    "\n",
    "#labels\n",
    "plt.figure(figsize=(5,5))\n",
    "labels = combined_clean_df['Sex'].unique()\n",
    "plt.pie(countOfmice_sex, labels=labels, autopct='%.2f %%', textprops={'fontsize': 13})\n",
    "#plt.axis(\"equal\")\n",
    "plt.title(\"Distribution of Sex of mice\")\n",
    "plt.legend()\n",
    "plt.show()"
   ]
  },
  {
   "cell_type": "markdown",
   "metadata": {},
   "source": [
    "## Quartiles, Outliers and Boxplots"
   ]
  },
  {
   "cell_type": "code",
   "execution_count": 13,
   "metadata": {},
   "outputs": [],
   "source": [
    "# Calculate the final tumor volume of each mouse across four of the most promising treatment regimens. Calculate the IQR and quantitatively determine if there are any potential outliers. \n"
   ]
  },
  {
   "cell_type": "code",
   "execution_count": 14,
   "metadata": {},
   "outputs": [],
   "source": [
    "# Generate a box plot of the final tumor volume of each mouse across four regimens of interest"
   ]
  },
  {
   "cell_type": "markdown",
   "metadata": {},
   "source": [
    "## Line and Scatter Plots"
   ]
  },
  {
   "cell_type": "code",
   "execution_count": 15,
   "metadata": {},
   "outputs": [],
   "source": [
    "# Generate a line plot of time point versus tumor volume for a mouse treated with Capomulin\n",
    "Capomulin_df = combined_clean_df.loc[combined_clean_df[\"Drug Regimen\"]==\"Capomulin\"]"
   ]
  },
  {
   "cell_type": "code",
   "execution_count": 16,
   "metadata": {},
   "outputs": [],
   "source": [
    "# Generate a scatter plot of mouse weight versus average tumor volume for the Capomulin regimen\n",
    "\n"
   ]
  },
  {
   "cell_type": "markdown",
   "metadata": {},
   "source": [
    "## Correlation and Regression"
   ]
  },
  {
   "cell_type": "code",
   "execution_count": 17,
   "metadata": {},
   "outputs": [],
   "source": [
    "# Calculate the correlation coefficient and linear regression model \n",
    "# for mouse weight and average tumor volume for the Capomulin regimen\n"
   ]
  },
  {
   "cell_type": "code",
   "execution_count": null,
   "metadata": {},
   "outputs": [],
   "source": []
  }
 ],
 "metadata": {
  "anaconda-cloud": {},
  "kernelspec": {
   "display_name": "Python 3",
   "language": "python",
   "name": "python3"
  },
  "language_info": {
   "codemirror_mode": {
    "name": "ipython",
    "version": 3
   },
   "file_extension": ".py",
   "mimetype": "text/x-python",
   "name": "python",
   "nbconvert_exporter": "python",
   "pygments_lexer": "ipython3",
   "version": "3.7.6"
  },
  "toc": {
   "base_numbering": 1,
   "nav_menu": {},
   "number_sections": true,
   "sideBar": true,
   "skip_h1_title": false,
   "title_cell": "Table of Contents",
   "title_sidebar": "Contents",
   "toc_cell": false,
   "toc_position": {},
   "toc_section_display": true,
   "toc_window_display": true
  }
 },
 "nbformat": 4,
 "nbformat_minor": 2
}
