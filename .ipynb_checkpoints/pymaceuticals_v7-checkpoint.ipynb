{
 "cells": [
  {
   "cell_type": "markdown",
   "metadata": {},
   "source": [
    "## Observations and Insights "
   ]
  },
  {
   "cell_type": "code",
   "execution_count": 2,
   "metadata": {},
   "outputs": [],
   "source": [
    "# Dependencies and Setup\n",
    "\n",
    "%config IPCompleter.greedy=True\n",
    "\n",
    "import matplotlib.pyplot as plt\n",
    "import pandas as pd\n",
    "import numpy as np\n",
    "import scipy.stats as st\n",
    "\n",
    "# data files to load and read\n",
    "mouse_metadata_path = \"data/Mouse_metadata.csv\"\n",
    "study_results_path = \"data/Study_results.csv\"\n",
    "\n",
    "# Read the mouse data and the study results\n",
    "mouse_metadata = pd.read_csv(mouse_metadata_path)\n",
    "study_results = pd.read_csv(study_results_path)\n",
    "\n",
    "# Combine the data into a single dataset\n",
    "# mouse_metadata = mouse_metadata.merge(study_results, on = \"Mouse ID\", how=\"inner\")\n",
    "combined_df = pd.merge(mouse_metadata,study_results, on = \"Mouse ID\")"
   ]
  },
  {
   "cell_type": "code",
   "execution_count": 3,
   "metadata": {
    "scrolled": true
   },
   "outputs": [
    {
     "data": {
      "text/html": [
       "<div>\n",
       "<style scoped>\n",
       "    .dataframe tbody tr th:only-of-type {\n",
       "        vertical-align: middle;\n",
       "    }\n",
       "\n",
       "    .dataframe tbody tr th {\n",
       "        vertical-align: top;\n",
       "    }\n",
       "\n",
       "    .dataframe thead th {\n",
       "        text-align: right;\n",
       "    }\n",
       "</style>\n",
       "<table border=\"1\" class=\"dataframe\">\n",
       "  <thead>\n",
       "    <tr style=\"text-align: right;\">\n",
       "      <th></th>\n",
       "      <th>Mouse ID</th>\n",
       "      <th>Drug Regimen</th>\n",
       "      <th>Sex</th>\n",
       "      <th>Age_months</th>\n",
       "      <th>Weight (g)</th>\n",
       "      <th>Timepoint</th>\n",
       "      <th>Tumor Volume (mm3)</th>\n",
       "      <th>Metastatic Sites</th>\n",
       "    </tr>\n",
       "  </thead>\n",
       "  <tbody>\n",
       "    <tr>\n",
       "      <th>0</th>\n",
       "      <td>k403</td>\n",
       "      <td>Ramicane</td>\n",
       "      <td>Male</td>\n",
       "      <td>21</td>\n",
       "      <td>16</td>\n",
       "      <td>0</td>\n",
       "      <td>45.000000</td>\n",
       "      <td>0</td>\n",
       "    </tr>\n",
       "    <tr>\n",
       "      <th>1</th>\n",
       "      <td>k403</td>\n",
       "      <td>Ramicane</td>\n",
       "      <td>Male</td>\n",
       "      <td>21</td>\n",
       "      <td>16</td>\n",
       "      <td>5</td>\n",
       "      <td>38.825898</td>\n",
       "      <td>0</td>\n",
       "    </tr>\n",
       "    <tr>\n",
       "      <th>2</th>\n",
       "      <td>k403</td>\n",
       "      <td>Ramicane</td>\n",
       "      <td>Male</td>\n",
       "      <td>21</td>\n",
       "      <td>16</td>\n",
       "      <td>10</td>\n",
       "      <td>35.014271</td>\n",
       "      <td>1</td>\n",
       "    </tr>\n",
       "    <tr>\n",
       "      <th>3</th>\n",
       "      <td>k403</td>\n",
       "      <td>Ramicane</td>\n",
       "      <td>Male</td>\n",
       "      <td>21</td>\n",
       "      <td>16</td>\n",
       "      <td>15</td>\n",
       "      <td>34.223992</td>\n",
       "      <td>1</td>\n",
       "    </tr>\n",
       "    <tr>\n",
       "      <th>4</th>\n",
       "      <td>k403</td>\n",
       "      <td>Ramicane</td>\n",
       "      <td>Male</td>\n",
       "      <td>21</td>\n",
       "      <td>16</td>\n",
       "      <td>20</td>\n",
       "      <td>32.997729</td>\n",
       "      <td>1</td>\n",
       "    </tr>\n",
       "  </tbody>\n",
       "</table>\n",
       "</div>"
      ],
      "text/plain": [
       "  Mouse ID Drug Regimen   Sex  Age_months  Weight (g)  Timepoint  \\\n",
       "0     k403     Ramicane  Male          21          16          0   \n",
       "1     k403     Ramicane  Male          21          16          5   \n",
       "2     k403     Ramicane  Male          21          16         10   \n",
       "3     k403     Ramicane  Male          21          16         15   \n",
       "4     k403     Ramicane  Male          21          16         20   \n",
       "\n",
       "   Tumor Volume (mm3)  Metastatic Sites  \n",
       "0           45.000000                 0  \n",
       "1           38.825898                 0  \n",
       "2           35.014271                 1  \n",
       "3           34.223992                 1  \n",
       "4           32.997729                 1  "
      ]
     },
     "execution_count": 3,
     "metadata": {},
     "output_type": "execute_result"
    }
   ],
   "source": [
    "combined_df.head()"
   ]
  },
  {
   "cell_type": "code",
   "execution_count": 4,
   "metadata": {},
   "outputs": [
    {
     "name": "stdout",
     "output_type": "stream",
     "text": [
      "Total number of mice: 249\n",
      "----------------------\n",
      "Number of timepoint: 10\n",
      "----------------------\n",
      "Count of mice : \n",
      "g989    13\n",
      "l661    10\n",
      "t718    10\n",
      "r554    10\n",
      "r944    10\n",
      "        ..\n",
      "b447     1\n",
      "o848     1\n",
      "v199     1\n",
      "h428     1\n",
      "n482     1\n",
      "Name: Mouse ID, Length: 249, dtype: int64\n"
     ]
    },
    {
     "data": {
      "text/html": [
       "<div>\n",
       "<style scoped>\n",
       "    .dataframe tbody tr th:only-of-type {\n",
       "        vertical-align: middle;\n",
       "    }\n",
       "\n",
       "    .dataframe tbody tr th {\n",
       "        vertical-align: top;\n",
       "    }\n",
       "\n",
       "    .dataframe thead th {\n",
       "        text-align: right;\n",
       "    }\n",
       "</style>\n",
       "<table border=\"1\" class=\"dataframe\">\n",
       "  <thead>\n",
       "    <tr style=\"text-align: right;\">\n",
       "      <th></th>\n",
       "      <th>Mouse ID</th>\n",
       "      <th>Drug Regimen</th>\n",
       "      <th>Sex</th>\n",
       "      <th>Age_months</th>\n",
       "      <th>Weight (g)</th>\n",
       "      <th>Timepoint</th>\n",
       "      <th>Tumor Volume (mm3)</th>\n",
       "      <th>Metastatic Sites</th>\n",
       "    </tr>\n",
       "  </thead>\n",
       "  <tbody>\n",
       "    <tr>\n",
       "      <th>908</th>\n",
       "      <td>g989</td>\n",
       "      <td>Propriva</td>\n",
       "      <td>Female</td>\n",
       "      <td>21</td>\n",
       "      <td>26</td>\n",
       "      <td>0</td>\n",
       "      <td>45.000000</td>\n",
       "      <td>0</td>\n",
       "    </tr>\n",
       "    <tr>\n",
       "      <th>909</th>\n",
       "      <td>g989</td>\n",
       "      <td>Propriva</td>\n",
       "      <td>Female</td>\n",
       "      <td>21</td>\n",
       "      <td>26</td>\n",
       "      <td>0</td>\n",
       "      <td>45.000000</td>\n",
       "      <td>0</td>\n",
       "    </tr>\n",
       "    <tr>\n",
       "      <th>910</th>\n",
       "      <td>g989</td>\n",
       "      <td>Propriva</td>\n",
       "      <td>Female</td>\n",
       "      <td>21</td>\n",
       "      <td>26</td>\n",
       "      <td>5</td>\n",
       "      <td>48.786801</td>\n",
       "      <td>0</td>\n",
       "    </tr>\n",
       "    <tr>\n",
       "      <th>911</th>\n",
       "      <td>g989</td>\n",
       "      <td>Propriva</td>\n",
       "      <td>Female</td>\n",
       "      <td>21</td>\n",
       "      <td>26</td>\n",
       "      <td>5</td>\n",
       "      <td>47.570392</td>\n",
       "      <td>0</td>\n",
       "    </tr>\n",
       "    <tr>\n",
       "      <th>912</th>\n",
       "      <td>g989</td>\n",
       "      <td>Propriva</td>\n",
       "      <td>Female</td>\n",
       "      <td>21</td>\n",
       "      <td>26</td>\n",
       "      <td>10</td>\n",
       "      <td>51.745156</td>\n",
       "      <td>0</td>\n",
       "    </tr>\n",
       "    <tr>\n",
       "      <th>913</th>\n",
       "      <td>g989</td>\n",
       "      <td>Propriva</td>\n",
       "      <td>Female</td>\n",
       "      <td>21</td>\n",
       "      <td>26</td>\n",
       "      <td>10</td>\n",
       "      <td>49.880528</td>\n",
       "      <td>0</td>\n",
       "    </tr>\n",
       "    <tr>\n",
       "      <th>914</th>\n",
       "      <td>g989</td>\n",
       "      <td>Propriva</td>\n",
       "      <td>Female</td>\n",
       "      <td>21</td>\n",
       "      <td>26</td>\n",
       "      <td>15</td>\n",
       "      <td>51.325852</td>\n",
       "      <td>1</td>\n",
       "    </tr>\n",
       "    <tr>\n",
       "      <th>915</th>\n",
       "      <td>g989</td>\n",
       "      <td>Propriva</td>\n",
       "      <td>Female</td>\n",
       "      <td>21</td>\n",
       "      <td>26</td>\n",
       "      <td>15</td>\n",
       "      <td>53.442020</td>\n",
       "      <td>0</td>\n",
       "    </tr>\n",
       "    <tr>\n",
       "      <th>916</th>\n",
       "      <td>g989</td>\n",
       "      <td>Propriva</td>\n",
       "      <td>Female</td>\n",
       "      <td>21</td>\n",
       "      <td>26</td>\n",
       "      <td>20</td>\n",
       "      <td>55.326122</td>\n",
       "      <td>1</td>\n",
       "    </tr>\n",
       "    <tr>\n",
       "      <th>917</th>\n",
       "      <td>g989</td>\n",
       "      <td>Propriva</td>\n",
       "      <td>Female</td>\n",
       "      <td>21</td>\n",
       "      <td>26</td>\n",
       "      <td>20</td>\n",
       "      <td>54.657650</td>\n",
       "      <td>1</td>\n",
       "    </tr>\n",
       "    <tr>\n",
       "      <th>918</th>\n",
       "      <td>g989</td>\n",
       "      <td>Propriva</td>\n",
       "      <td>Female</td>\n",
       "      <td>21</td>\n",
       "      <td>26</td>\n",
       "      <td>25</td>\n",
       "      <td>56.045564</td>\n",
       "      <td>1</td>\n",
       "    </tr>\n",
       "    <tr>\n",
       "      <th>919</th>\n",
       "      <td>g989</td>\n",
       "      <td>Propriva</td>\n",
       "      <td>Female</td>\n",
       "      <td>21</td>\n",
       "      <td>26</td>\n",
       "      <td>30</td>\n",
       "      <td>59.082294</td>\n",
       "      <td>1</td>\n",
       "    </tr>\n",
       "    <tr>\n",
       "      <th>920</th>\n",
       "      <td>g989</td>\n",
       "      <td>Propriva</td>\n",
       "      <td>Female</td>\n",
       "      <td>21</td>\n",
       "      <td>26</td>\n",
       "      <td>35</td>\n",
       "      <td>62.570880</td>\n",
       "      <td>2</td>\n",
       "    </tr>\n",
       "  </tbody>\n",
       "</table>\n",
       "</div>"
      ],
      "text/plain": [
       "    Mouse ID Drug Regimen     Sex  Age_months  Weight (g)  Timepoint  \\\n",
       "908     g989     Propriva  Female          21          26          0   \n",
       "909     g989     Propriva  Female          21          26          0   \n",
       "910     g989     Propriva  Female          21          26          5   \n",
       "911     g989     Propriva  Female          21          26          5   \n",
       "912     g989     Propriva  Female          21          26         10   \n",
       "913     g989     Propriva  Female          21          26         10   \n",
       "914     g989     Propriva  Female          21          26         15   \n",
       "915     g989     Propriva  Female          21          26         15   \n",
       "916     g989     Propriva  Female          21          26         20   \n",
       "917     g989     Propriva  Female          21          26         20   \n",
       "918     g989     Propriva  Female          21          26         25   \n",
       "919     g989     Propriva  Female          21          26         30   \n",
       "920     g989     Propriva  Female          21          26         35   \n",
       "\n",
       "     Tumor Volume (mm3)  Metastatic Sites  \n",
       "908           45.000000                 0  \n",
       "909           45.000000                 0  \n",
       "910           48.786801                 0  \n",
       "911           47.570392                 0  \n",
       "912           51.745156                 0  \n",
       "913           49.880528                 0  \n",
       "914           51.325852                 1  \n",
       "915           53.442020                 0  \n",
       "916           55.326122                 1  \n",
       "917           54.657650                 1  \n",
       "918           56.045564                 1  \n",
       "919           59.082294                 1  \n",
       "920           62.570880                 2  "
      ]
     },
     "execution_count": 4,
     "metadata": {},
     "output_type": "execute_result"
    }
   ],
   "source": [
    "# Checking the number of mice in the DataFrame.\n",
    "\n",
    "totNumOfmice = combined_df[\"Mouse ID\"].nunique()\n",
    "timepoint_count=combined_df[\"Timepoint\"].nunique()\n",
    "mice_count=combined_df[\"Mouse ID\"].value_counts()\n",
    "\n",
    "print(\"Total number of mice: \" + str(totNumOfmice))\n",
    "print(\"----------------------\")\n",
    "print(\"Number of timepoint: \" + str(timepoint_count))\n",
    "print(\"----------------------\")\n",
    "print(\"Count of mice : \")\n",
    "print(mice_count) \n",
    "combined_df.loc[combined_df[\"Mouse ID\"]==\"g989\"] # <--duplicates sample"
   ]
  },
  {
   "cell_type": "code",
   "execution_count": 5,
   "metadata": {},
   "outputs": [
    {
     "data": {
      "text/html": [
       "<div>\n",
       "<style scoped>\n",
       "    .dataframe tbody tr th:only-of-type {\n",
       "        vertical-align: middle;\n",
       "    }\n",
       "\n",
       "    .dataframe tbody tr th {\n",
       "        vertical-align: top;\n",
       "    }\n",
       "\n",
       "    .dataframe thead th {\n",
       "        text-align: right;\n",
       "    }\n",
       "</style>\n",
       "<table border=\"1\" class=\"dataframe\">\n",
       "  <thead>\n",
       "    <tr style=\"text-align: right;\">\n",
       "      <th></th>\n",
       "      <th>Mouse ID</th>\n",
       "      <th>Drug Regimen</th>\n",
       "      <th>Sex</th>\n",
       "      <th>Age_months</th>\n",
       "      <th>Weight (g)</th>\n",
       "      <th>Timepoint</th>\n",
       "      <th>Tumor Volume (mm3)</th>\n",
       "      <th>Metastatic Sites</th>\n",
       "    </tr>\n",
       "  </thead>\n",
       "  <tbody>\n",
       "    <tr>\n",
       "      <th>909</th>\n",
       "      <td>g989</td>\n",
       "      <td>Propriva</td>\n",
       "      <td>Female</td>\n",
       "      <td>21</td>\n",
       "      <td>26</td>\n",
       "      <td>0</td>\n",
       "      <td>45.000000</td>\n",
       "      <td>0</td>\n",
       "    </tr>\n",
       "    <tr>\n",
       "      <th>911</th>\n",
       "      <td>g989</td>\n",
       "      <td>Propriva</td>\n",
       "      <td>Female</td>\n",
       "      <td>21</td>\n",
       "      <td>26</td>\n",
       "      <td>5</td>\n",
       "      <td>47.570392</td>\n",
       "      <td>0</td>\n",
       "    </tr>\n",
       "    <tr>\n",
       "      <th>913</th>\n",
       "      <td>g989</td>\n",
       "      <td>Propriva</td>\n",
       "      <td>Female</td>\n",
       "      <td>21</td>\n",
       "      <td>26</td>\n",
       "      <td>10</td>\n",
       "      <td>49.880528</td>\n",
       "      <td>0</td>\n",
       "    </tr>\n",
       "    <tr>\n",
       "      <th>915</th>\n",
       "      <td>g989</td>\n",
       "      <td>Propriva</td>\n",
       "      <td>Female</td>\n",
       "      <td>21</td>\n",
       "      <td>26</td>\n",
       "      <td>15</td>\n",
       "      <td>53.442020</td>\n",
       "      <td>0</td>\n",
       "    </tr>\n",
       "    <tr>\n",
       "      <th>917</th>\n",
       "      <td>g989</td>\n",
       "      <td>Propriva</td>\n",
       "      <td>Female</td>\n",
       "      <td>21</td>\n",
       "      <td>26</td>\n",
       "      <td>20</td>\n",
       "      <td>54.657650</td>\n",
       "      <td>1</td>\n",
       "    </tr>\n",
       "  </tbody>\n",
       "</table>\n",
       "</div>"
      ],
      "text/plain": [
       "    Mouse ID Drug Regimen     Sex  Age_months  Weight (g)  Timepoint  \\\n",
       "909     g989     Propriva  Female          21          26          0   \n",
       "911     g989     Propriva  Female          21          26          5   \n",
       "913     g989     Propriva  Female          21          26         10   \n",
       "915     g989     Propriva  Female          21          26         15   \n",
       "917     g989     Propriva  Female          21          26         20   \n",
       "\n",
       "     Tumor Volume (mm3)  Metastatic Sites  \n",
       "909           45.000000                 0  \n",
       "911           47.570392                 0  \n",
       "913           49.880528                 0  \n",
       "915           53.442020                 0  \n",
       "917           54.657650                 1  "
      ]
     },
     "execution_count": 5,
     "metadata": {},
     "output_type": "execute_result"
    }
   ],
   "source": [
    "# Getting the duplicate mice by ID number that shows up for Mouse ID and Timepoint.\n",
    "# Optional: Get all the data for the duplicate mouse ID. \n",
    "dup=combined_df[combined_df.duplicated([\"Mouse ID\", \"Timepoint\"],keep ='first')]\n",
    "dup"
   ]
  },
  {
   "cell_type": "code",
   "execution_count": 6,
   "metadata": {},
   "outputs": [],
   "source": [
    "# Create a clean DataFrame by dropping the duplicate mouse by its ID using \"drop_duplicates\" function.\n",
    "combined_clean_df=combined_df.drop_duplicates([\"Mouse ID\", \"Timepoint\"],keep ='first')"
   ]
  },
  {
   "cell_type": "code",
   "execution_count": 7,
   "metadata": {},
   "outputs": [
    {
     "data": {
      "text/plain": [
       "l661    10\n",
       "t718    10\n",
       "l725    10\n",
       "r554    10\n",
       "r944    10\n",
       "        ..\n",
       "l872     1\n",
       "x336     1\n",
       "t573     1\n",
       "x226     1\n",
       "h428     1\n",
       "Name: Mouse ID, Length: 249, dtype: int64"
      ]
     },
     "execution_count": 7,
     "metadata": {},
     "output_type": "execute_result"
    }
   ],
   "source": [
    "# Checking the number of mice in the clean DataFrame.\n",
    "combined_clean_df[\"Mouse ID\"].value_counts()"
   ]
  },
  {
   "cell_type": "markdown",
   "metadata": {},
   "source": [
    "## Summary Statistics"
   ]
  },
  {
   "cell_type": "code",
   "execution_count": 8,
   "metadata": {},
   "outputs": [
    {
     "data": {
      "text/html": [
       "<style  type=\"text/css\" >\n",
       "</style><table id=\"T_38a595de_ac61_11ea_b854_f80f412b8562\" ><thead>    <tr>        <th class=\"blank level0\" ></th>        <th class=\"col_heading level0 col0\" >Mean</th>        <th class=\"col_heading level0 col1\" >Median</th>        <th class=\"col_heading level0 col2\" >Variance</th>        <th class=\"col_heading level0 col3\" >Standard Deviation</th>        <th class=\"col_heading level0 col4\" >SEM</th>    </tr></thead><tbody>\n",
       "                <tr>\n",
       "                        <th id=\"T_38a595de_ac61_11ea_b854_f80f412b8562level0_row0\" class=\"row_heading level0 row0\" >0</th>\n",
       "                        <td id=\"T_38a595de_ac61_11ea_b854_f80f412b8562row0_col0\" class=\"data row0 col0\" >50.45</td>\n",
       "                        <td id=\"T_38a595de_ac61_11ea_b854_f80f412b8562row0_col1\" class=\"data row0 col1\" >48.95</td>\n",
       "                        <td id=\"T_38a595de_ac61_11ea_b854_f80f412b8562row0_col2\" class=\"data row0 col2\" >79.29</td>\n",
       "                        <td id=\"T_38a595de_ac61_11ea_b854_f80f412b8562row0_col3\" class=\"data row0 col3\" >8.90</td>\n",
       "                        <td id=\"T_38a595de_ac61_11ea_b854_f80f412b8562row0_col4\" class=\"data row0 col4\" >0.20</td>\n",
       "            </tr>\n",
       "    </tbody></table>"
      ],
      "text/plain": [
       "<pandas.io.formats.style.Styler at 0x22e930a06c8>"
      ]
     },
     "execution_count": 8,
     "metadata": {},
     "output_type": "execute_result"
    }
   ],
   "source": [
    "# summary stat for Tumor Volume of the entire regimen\n",
    "mean_all = combined_clean_df[\"Tumor Volume (mm3)\"].mean()\n",
    "median_all = combined_clean_df[\"Tumor Volume (mm3)\"].median()\n",
    "var_all = combined_clean_df[\"Tumor Volume (mm3)\"].var()\n",
    "std_all = combined_clean_df[\"Tumor Volume (mm3)\"].std()\n",
    "sem_all = combined_clean_df[\"Tumor Volume (mm3)\"].sem()\n",
    "\n",
    "Summary_allStat_df=pd.DataFrame({\"Mean\":[mean_all],\"Median\":median_all, \"Variance\":var_all, \n",
    "                              \"Standard Deviation\":std_all,\"SEM\":sem_all})\n",
    "Summary_allStat_df.head(10).style.format({\"Mean\":\"{:.2f}\",\"Median\":\"{:.2f}\", \"Variance\":\"{:.2f}\", \n",
    "                              \"Standard Deviation\":\"{:.2f}\",\"SEM\":\"{:.2f}\"})"
   ]
  },
  {
   "cell_type": "code",
   "execution_count": 9,
   "metadata": {
    "scrolled": true
   },
   "outputs": [
    {
     "data": {
      "text/html": [
       "<style  type=\"text/css\" >\n",
       "</style><table id=\"T_38ef7638_ac61_11ea_aea6_f80f412b8562\" ><thead>    <tr>        <th class=\"blank level0\" ></th>        <th class=\"col_heading level0 col0\" >Mean</th>        <th class=\"col_heading level0 col1\" >Median</th>        <th class=\"col_heading level0 col2\" >Variance</th>        <th class=\"col_heading level0 col3\" >Standard Deviation</th>        <th class=\"col_heading level0 col4\" >SEM</th>    </tr>    <tr>        <th class=\"index_name level0\" >Drug Regimen</th>        <th class=\"blank\" ></th>        <th class=\"blank\" ></th>        <th class=\"blank\" ></th>        <th class=\"blank\" ></th>        <th class=\"blank\" ></th>    </tr></thead><tbody>\n",
       "                <tr>\n",
       "                        <th id=\"T_38ef7638_ac61_11ea_aea6_f80f412b8562level0_row0\" class=\"row_heading level0 row0\" >Capomulin</th>\n",
       "                        <td id=\"T_38ef7638_ac61_11ea_aea6_f80f412b8562row0_col0\" class=\"data row0 col0\" >40.68</td>\n",
       "                        <td id=\"T_38ef7638_ac61_11ea_aea6_f80f412b8562row0_col1\" class=\"data row0 col1\" >41.56</td>\n",
       "                        <td id=\"T_38ef7638_ac61_11ea_aea6_f80f412b8562row0_col2\" class=\"data row0 col2\" >24.95</td>\n",
       "                        <td id=\"T_38ef7638_ac61_11ea_aea6_f80f412b8562row0_col3\" class=\"data row0 col3\" >4.99</td>\n",
       "                        <td id=\"T_38ef7638_ac61_11ea_aea6_f80f412b8562row0_col4\" class=\"data row0 col4\" >0.33</td>\n",
       "            </tr>\n",
       "            <tr>\n",
       "                        <th id=\"T_38ef7638_ac61_11ea_aea6_f80f412b8562level0_row1\" class=\"row_heading level0 row1\" >Ceftamin</th>\n",
       "                        <td id=\"T_38ef7638_ac61_11ea_aea6_f80f412b8562row1_col0\" class=\"data row1 col0\" >52.59</td>\n",
       "                        <td id=\"T_38ef7638_ac61_11ea_aea6_f80f412b8562row1_col1\" class=\"data row1 col1\" >51.78</td>\n",
       "                        <td id=\"T_38ef7638_ac61_11ea_aea6_f80f412b8562row1_col2\" class=\"data row1 col2\" >39.29</td>\n",
       "                        <td id=\"T_38ef7638_ac61_11ea_aea6_f80f412b8562row1_col3\" class=\"data row1 col3\" >6.27</td>\n",
       "                        <td id=\"T_38ef7638_ac61_11ea_aea6_f80f412b8562row1_col4\" class=\"data row1 col4\" >0.47</td>\n",
       "            </tr>\n",
       "            <tr>\n",
       "                        <th id=\"T_38ef7638_ac61_11ea_aea6_f80f412b8562level0_row2\" class=\"row_heading level0 row2\" >Infubinol</th>\n",
       "                        <td id=\"T_38ef7638_ac61_11ea_aea6_f80f412b8562row2_col0\" class=\"data row2 col0\" >52.88</td>\n",
       "                        <td id=\"T_38ef7638_ac61_11ea_aea6_f80f412b8562row2_col1\" class=\"data row2 col1\" >51.82</td>\n",
       "                        <td id=\"T_38ef7638_ac61_11ea_aea6_f80f412b8562row2_col2\" class=\"data row2 col2\" >43.13</td>\n",
       "                        <td id=\"T_38ef7638_ac61_11ea_aea6_f80f412b8562row2_col3\" class=\"data row2 col3\" >6.57</td>\n",
       "                        <td id=\"T_38ef7638_ac61_11ea_aea6_f80f412b8562row2_col4\" class=\"data row2 col4\" >0.49</td>\n",
       "            </tr>\n",
       "            <tr>\n",
       "                        <th id=\"T_38ef7638_ac61_11ea_aea6_f80f412b8562level0_row3\" class=\"row_heading level0 row3\" >Ketapril</th>\n",
       "                        <td id=\"T_38ef7638_ac61_11ea_aea6_f80f412b8562row3_col0\" class=\"data row3 col0\" >55.24</td>\n",
       "                        <td id=\"T_38ef7638_ac61_11ea_aea6_f80f412b8562row3_col1\" class=\"data row3 col1\" >53.70</td>\n",
       "                        <td id=\"T_38ef7638_ac61_11ea_aea6_f80f412b8562row3_col2\" class=\"data row3 col2\" >68.55</td>\n",
       "                        <td id=\"T_38ef7638_ac61_11ea_aea6_f80f412b8562row3_col3\" class=\"data row3 col3\" >8.28</td>\n",
       "                        <td id=\"T_38ef7638_ac61_11ea_aea6_f80f412b8562row3_col4\" class=\"data row3 col4\" >0.60</td>\n",
       "            </tr>\n",
       "            <tr>\n",
       "                        <th id=\"T_38ef7638_ac61_11ea_aea6_f80f412b8562level0_row4\" class=\"row_heading level0 row4\" >Naftisol</th>\n",
       "                        <td id=\"T_38ef7638_ac61_11ea_aea6_f80f412b8562row4_col0\" class=\"data row4 col0\" >54.33</td>\n",
       "                        <td id=\"T_38ef7638_ac61_11ea_aea6_f80f412b8562row4_col1\" class=\"data row4 col1\" >52.51</td>\n",
       "                        <td id=\"T_38ef7638_ac61_11ea_aea6_f80f412b8562row4_col2\" class=\"data row4 col2\" >66.17</td>\n",
       "                        <td id=\"T_38ef7638_ac61_11ea_aea6_f80f412b8562row4_col3\" class=\"data row4 col3\" >8.13</td>\n",
       "                        <td id=\"T_38ef7638_ac61_11ea_aea6_f80f412b8562row4_col4\" class=\"data row4 col4\" >0.60</td>\n",
       "            </tr>\n",
       "            <tr>\n",
       "                        <th id=\"T_38ef7638_ac61_11ea_aea6_f80f412b8562level0_row5\" class=\"row_heading level0 row5\" >Placebo</th>\n",
       "                        <td id=\"T_38ef7638_ac61_11ea_aea6_f80f412b8562row5_col0\" class=\"data row5 col0\" >54.03</td>\n",
       "                        <td id=\"T_38ef7638_ac61_11ea_aea6_f80f412b8562row5_col1\" class=\"data row5 col1\" >52.29</td>\n",
       "                        <td id=\"T_38ef7638_ac61_11ea_aea6_f80f412b8562row5_col2\" class=\"data row5 col2\" >61.17</td>\n",
       "                        <td id=\"T_38ef7638_ac61_11ea_aea6_f80f412b8562row5_col3\" class=\"data row5 col3\" >7.82</td>\n",
       "                        <td id=\"T_38ef7638_ac61_11ea_aea6_f80f412b8562row5_col4\" class=\"data row5 col4\" >0.58</td>\n",
       "            </tr>\n",
       "            <tr>\n",
       "                        <th id=\"T_38ef7638_ac61_11ea_aea6_f80f412b8562level0_row6\" class=\"row_heading level0 row6\" >Propriva</th>\n",
       "                        <td id=\"T_38ef7638_ac61_11ea_aea6_f80f412b8562row6_col0\" class=\"data row6 col0\" >52.39</td>\n",
       "                        <td id=\"T_38ef7638_ac61_11ea_aea6_f80f412b8562row6_col1\" class=\"data row6 col1\" >50.91</td>\n",
       "                        <td id=\"T_38ef7638_ac61_11ea_aea6_f80f412b8562row6_col2\" class=\"data row6 col2\" >43.14</td>\n",
       "                        <td id=\"T_38ef7638_ac61_11ea_aea6_f80f412b8562row6_col3\" class=\"data row6 col3\" >6.57</td>\n",
       "                        <td id=\"T_38ef7638_ac61_11ea_aea6_f80f412b8562row6_col4\" class=\"data row6 col4\" >0.53</td>\n",
       "            </tr>\n",
       "            <tr>\n",
       "                        <th id=\"T_38ef7638_ac61_11ea_aea6_f80f412b8562level0_row7\" class=\"row_heading level0 row7\" >Ramicane</th>\n",
       "                        <td id=\"T_38ef7638_ac61_11ea_aea6_f80f412b8562row7_col0\" class=\"data row7 col0\" >40.22</td>\n",
       "                        <td id=\"T_38ef7638_ac61_11ea_aea6_f80f412b8562row7_col1\" class=\"data row7 col1\" >40.67</td>\n",
       "                        <td id=\"T_38ef7638_ac61_11ea_aea6_f80f412b8562row7_col2\" class=\"data row7 col2\" >23.49</td>\n",
       "                        <td id=\"T_38ef7638_ac61_11ea_aea6_f80f412b8562row7_col3\" class=\"data row7 col3\" >4.85</td>\n",
       "                        <td id=\"T_38ef7638_ac61_11ea_aea6_f80f412b8562row7_col4\" class=\"data row7 col4\" >0.32</td>\n",
       "            </tr>\n",
       "            <tr>\n",
       "                        <th id=\"T_38ef7638_ac61_11ea_aea6_f80f412b8562level0_row8\" class=\"row_heading level0 row8\" >Stelasyn</th>\n",
       "                        <td id=\"T_38ef7638_ac61_11ea_aea6_f80f412b8562row8_col0\" class=\"data row8 col0\" >54.23</td>\n",
       "                        <td id=\"T_38ef7638_ac61_11ea_aea6_f80f412b8562row8_col1\" class=\"data row8 col1\" >52.43</td>\n",
       "                        <td id=\"T_38ef7638_ac61_11ea_aea6_f80f412b8562row8_col2\" class=\"data row8 col2\" >59.45</td>\n",
       "                        <td id=\"T_38ef7638_ac61_11ea_aea6_f80f412b8562row8_col3\" class=\"data row8 col3\" >7.71</td>\n",
       "                        <td id=\"T_38ef7638_ac61_11ea_aea6_f80f412b8562row8_col4\" class=\"data row8 col4\" >0.57</td>\n",
       "            </tr>\n",
       "            <tr>\n",
       "                        <th id=\"T_38ef7638_ac61_11ea_aea6_f80f412b8562level0_row9\" class=\"row_heading level0 row9\" >Zoniferol</th>\n",
       "                        <td id=\"T_38ef7638_ac61_11ea_aea6_f80f412b8562row9_col0\" class=\"data row9 col0\" >53.24</td>\n",
       "                        <td id=\"T_38ef7638_ac61_11ea_aea6_f80f412b8562row9_col1\" class=\"data row9 col1\" >51.82</td>\n",
       "                        <td id=\"T_38ef7638_ac61_11ea_aea6_f80f412b8562row9_col2\" class=\"data row9 col2\" >48.53</td>\n",
       "                        <td id=\"T_38ef7638_ac61_11ea_aea6_f80f412b8562row9_col3\" class=\"data row9 col3\" >6.97</td>\n",
       "                        <td id=\"T_38ef7638_ac61_11ea_aea6_f80f412b8562row9_col4\" class=\"data row9 col4\" >0.52</td>\n",
       "            </tr>\n",
       "    </tbody></table>"
      ],
      "text/plain": [
       "<pandas.io.formats.style.Styler at 0x22e931e6548>"
      ]
     },
     "execution_count": 9,
     "metadata": {},
     "output_type": "execute_result"
    }
   ],
   "source": [
    "# Generate a summary statistics table of mean, median, variance, standard deviation, and SEM of the tumor volume for each regimen\n",
    "# This method produces everything in a single groupby function.\n",
    "\n",
    "byDrug = combined_clean_df.groupby(\"Drug Regimen\")[\"Tumor Volume (mm3)\"]\n",
    "\n",
    "mean_drug= byDrug.mean()\n",
    "median_drug= byDrug.median()\n",
    "var_drug= byDrug.var()\n",
    "std_drug= byDrug.std()\n",
    "sem_drug= byDrug.sem()\n",
    "\n",
    "Summary_stat_df=pd.DataFrame({\"Mean\":mean_drug,\"Median\":median_drug, \"Variance\":var_drug, \n",
    "                              \"Standard Deviation\":std_drug,\"SEM\":sem_drug})\n",
    "Summary_stat_df.head(10).style.format({\"Mean\":\"{:.2f}\",\"Median\":\"{:.2f}\", \"Variance\":\"{:.2f}\", \n",
    "                              \"Standard Deviation\":\"{:.2f}\",\"SEM\":\"{:.2f}\"})\n"
   ]
  },
  {
   "cell_type": "markdown",
   "metadata": {},
   "source": [
    "## Bar Plots"
   ]
  },
  {
   "cell_type": "markdown",
   "metadata": {},
   "source": [
    "Using Pandas"
   ]
  },
  {
   "cell_type": "code",
   "execution_count": 10,
   "metadata": {},
   "outputs": [
    {
     "data": {
      "text/plain": [
       "Text(0, 0.5, 'Number of mice')"
      ]
     },
     "execution_count": 10,
     "metadata": {},
     "output_type": "execute_result"
    },
    {
     "data": {
      "image/png": "[encoded data removed]",
      "text/plain": [
       "<Figure size 432x288 with 1 Axes>"
      ]
     },
     "metadata": {
      "needs_background": "light"
     },
     "output_type": "display_data"
    }
   ],
   "source": [
    "# Generate a bar plot showing the number of mice per time point for each treatment throughout the course of the study using pandas.\n",
    "grpBydrug = combined_clean_df.groupby(\"Drug Regimen\")\n",
    "numOfmice_df = grpBydrug.count()\n",
    "\n",
    "numOfmice_df[\"Mouse ID\"].plot(kind='bar',width =0.7, rot=45, title=\"Number of mice used for each Drug research\")\n",
    "plt.ylabel(\"Number of mice\") \n"
   ]
  },
  {
   "cell_type": "markdown",
   "metadata": {},
   "source": [
    "Using pyplot"
   ]
  },
  {
   "cell_type": "code",
   "execution_count": 11,
   "metadata": {
    "scrolled": false
   },
   "outputs": [
    {
     "data": {
      "image/png": "[encoded data removed]",
      "text/plain": [
       "<Figure size 432x288 with 1 Axes>"
      ]
     },
     "metadata": {
      "needs_background": "light"
     },
     "output_type": "display_data"
    }
   ],
   "source": [
    "# Generate a bar plot showing the number of mice per time point for each treatment throughout the course of the study using pyplot.\n",
    "\n",
    "#define x-axis : unique value from \"Timepoint\" column. All drugs share this x-axis.\n",
    "x_axis = numOfmice_df.index\n",
    "\n",
    "plt.figure(figsize=(6,4))\n",
    "plt.bar(x_axis,numOfmice_df[\"Mouse ID\"])\n",
    "plt.xticks(rotation=45)\n",
    "plt.title(\"Number of mice used for each Drug research\")\n",
    "plt.ylabel(\"Number of mice\")\n",
    "plt.xlabel(\"Drug Regimen\")\n",
    "plt.tight_layout\n",
    "plt.show()"
   ]
  },
  {
   "cell_type": "markdown",
   "metadata": {},
   "source": [
    "## Pie Plots"
   ]
  },
  {
   "cell_type": "markdown",
   "metadata": {},
   "source": [
    "Using Pandas"
   ]
  },
  {
   "cell_type": "code",
   "execution_count": 12,
   "metadata": {},
   "outputs": [
    {
     "data": {
      "image/png": "[encoded data removed]",
      "text/plain": [
       "<Figure size 360x360 with 1 Axes>"
      ]
     },
     "metadata": {},
     "output_type": "display_data"
    }
   ],
   "source": [
    "# Generate a pie plot showing the distribution of female versus male mice using pandas\n",
    "\n",
    "# count of mice by sex\n",
    "countOfmice_sex = combined_clean_df['Sex'].value_counts()\n",
    "ax = countOfmice_sex.plot(kind='pie', autopct='%.2f%%',title=\"Distribution of Sex of mice\",label = \"\",fontsize = 13, legend = True,figsize =(5,5))"
   ]
  },
  {
   "cell_type": "markdown",
   "metadata": {},
   "source": [
    "Using Pyplot"
   ]
  },
  {
   "cell_type": "code",
   "execution_count": 13,
   "metadata": {},
   "outputs": [
    {
     "data": {
      "image/png": "[encoded data removed]",
      "text/plain": [
       "<Figure size 360x360 with 1 Axes>"
      ]
     },
     "metadata": {},
     "output_type": "display_data"
    }
   ],
   "source": [
    "# Generate a pie plot showing the distribution of female versus male mice using pyplot\n",
    "countOfmice_sex = combined_clean_df['Sex'].value_counts()\n",
    "\n",
    "#labels\n",
    "plt.figure(figsize=(5,5))\n",
    "labels = combined_clean_df['Sex'].unique()\n",
    "plt.pie(countOfmice_sex, labels=labels, autopct='%.2f %%', textprops={'fontsize': 13})\n",
    "#plt.axis(\"equal\")\n",
    "plt.title(\"Distribution of Sex of mice\")\n",
    "plt.legend()\n",
    "plt.show()"
   ]
  },
  {
   "cell_type": "markdown",
   "metadata": {},
   "source": [
    "## Quartiles, Outliers and Boxplots"
   ]
  },
  {
   "cell_type": "code",
   "execution_count": 14,
   "metadata": {},
   "outputs": [],
   "source": [
    "#Calculate the final tumor volume of each mouse across four of the most promising treatment regimens.\n",
    "atTimepoint45_df = combined_clean_df.loc[combined_clean_df['Timepoint']==45 ,['Drug Regimen','Mouse ID','Tumor Volume (mm3)']]\n",
    "\n",
    "\n",
    "Capomulin = atTimepoint45_df.loc[atTimepoint45_df['Drug Regimen']==\"Capomulin\"]\n",
    "Ramicane = atTimepoint45_df.loc[atTimepoint45_df['Drug Regimen']==\"Ramicane\"]\n",
    "Infubinol = atTimepoint45_df.loc[atTimepoint45_df['Drug Regimen']==\"Infubinol\"]\n",
    "Ceftamin = atTimepoint45_df.loc[atTimepoint45_df['Drug Regimen']==\"Ceftamin\"]\n",
    "\n",
    "#Calculate the IQR and quantitatively determine if there are any potential outliers.\n",
    "\n",
    "Capomulin_Q = np.percentile(Capomulin[\"Tumor Volume (mm3)\"], [25,50,75])\n",
    "Ramicane_Q = np.percentile(Ramicane[\"Tumor Volume (mm3)\"], [25,50,75])\n",
    "Infubinol_Q = np.percentile(Infubinol[\"Tumor Volume (mm3)\"], [25,50,75])\n",
    "Ceftamin_Q = np.percentile(Ceftamin[\"Tumor Volume (mm3)\"], [25,50,75])\n",
    "\n"
   ]
  },
  {
   "cell_type": "markdown",
   "metadata": {},
   "source": [
    "Quartiles and IQR and potential outliers for Capomulin"
   ]
  },
  {
   "cell_type": "code",
   "execution_count": 15,
   "metadata": {
    "scrolled": true
   },
   "outputs": [
    {
     "name": "stdout",
     "output_type": "stream",
     "text": [
      "Lower quartile :32.38\n",
      "Median :37.31\n",
      "Upper quartile :40.16\n",
      "Interquartile :7.78\n",
      "\n",
      "--Outliers checker for Capomulin--\n",
      "Upper_boundary: 47.94\n",
      "Max value: 47.69\n",
      "Lower_boundary: 24.6\n",
      "Min value: 23.34\n",
      "-------------Outliers-------------\n",
      "   Mouse ID  Tumor Volume (mm3)\n",
      "19     s185           23.343598\n"
     ]
    }
   ],
   "source": [
    "# quartiles and IQR and potential outliers for Capomulin\n",
    "first_Q_Cap = round(Capomulin_Q[0],2)\n",
    "second_Q_Cap = round(Capomulin_Q[1],2)\n",
    "third_Q_Cap = round(Capomulin_Q[2],2)\n",
    "IQR_Cap = round(third_Q_Cap - first_Q_Cap,2)\n",
    "upper_Cap = round((third_Q_Cap + IQR_Cap),2)\n",
    "lower_Cap = round((first_Q_Cap - IQR_Cap),2)\n",
    "\n",
    "max_Cap = round(Capomulin[\"Tumor Volume (mm3)\"].max(),2)\n",
    "min_Cap = round(Capomulin[\"Tumor Volume (mm3)\"].min(),2)\n",
    "\n",
    "print(\"Lower quartile :\"+ str(first_Q_Cap))\n",
    "print(\"Median :\"+ str(second_Q_Cap))\n",
    "print(\"Upper quartile :\"+ str(third_Q_Cap))\n",
    "print(\"Interquartile :\"+ str(IQR_Cap))\n",
    "print(\"\\n--Outliers checker for Capomulin--\")\n",
    "print(\"Upper_boundary: \" + str(upper_Cap))\n",
    "print(\"Max value: \" + str(max_Cap))\n",
    "print(\"Lower_boundary: \" + str(lower_Cap))\n",
    "print(\"Min value: \" + str(min_Cap))\n",
    "\n",
    "outliers_Cap = Capomulin.loc[(Capomulin[\"Tumor Volume (mm3)\"] > upper_Cap) | (Capomulin[\"Tumor Volume (mm3)\"] < lower_Cap), [\"Mouse ID\",\"Tumor Volume (mm3)\"]]\n",
    "print(\"-------------Outliers-------------\")\n",
    "print(outliers_Cap)"
   ]
  },
  {
   "cell_type": "markdown",
   "metadata": {},
   "source": [
    "Quartiles and IQR and potential outliers for Ramicane"
   ]
  },
  {
   "cell_type": "code",
   "execution_count": 16,
   "metadata": {
    "scrolled": true
   },
   "outputs": [
    {
     "name": "stdout",
     "output_type": "stream",
     "text": [
      "Lower quartile :30.98\n",
      "Median :34.85\n",
      "Upper quartile :38.51\n",
      "Interquartile :7.53\n",
      "\n",
      "--Outliers checker for Ramicane--\n",
      "Upper_boundary: 46.04\n",
      "Max value: 45.22\n",
      "Lower_boundary: 23.45\n",
      "Min value: 22.05\n",
      "-------------Outliers-------------\n",
      "  Mouse ID  Tumor Volume (mm3)\n",
      "9     k403           22.050126\n"
     ]
    }
   ],
   "source": [
    "# quartiles and IQR and potential outliers for Ramicane\n",
    "first_Q_Ram = round(Ramicane_Q[0],2)\n",
    "second_Q_Ram  = round(Ramicane_Q[1],2)\n",
    "third_Q_Ram  = round(Ramicane_Q[2],2)\n",
    "IQR_Ram  = round(third_Q_Ram  - first_Q_Ram,2) \n",
    "upper_Ram  = round((third_Q_Ram  + IQR_Ram ),2)\n",
    "lower_Ram  = round((first_Q_Ram  - IQR_Ram ),2)\n",
    "\n",
    "max_Ram  = round(Ramicane[\"Tumor Volume (mm3)\"].max(),2)\n",
    "min_Ram  = round(Ramicane[\"Tumor Volume (mm3)\"].min(),2)\n",
    "\n",
    "print(\"Lower quartile :\"+ str(first_Q_Ram))\n",
    "print(\"Median :\"+ str(second_Q_Ram))\n",
    "print(\"Upper quartile :\"+ str(third_Q_Ram))\n",
    "print(\"Interquartile :\"+ str(IQR_Ram))\n",
    "\n",
    "print(\"\\n--Outliers checker for Ramicane--\")\n",
    "print(\"Upper_boundary: \" + str(upper_Ram ))\n",
    "print(\"Max value: \" + str(max_Ram ))\n",
    "print(\"Lower_boundary: \" + str(lower_Ram ))\n",
    "print(\"Min value: \" + str(min_Ram ))\n",
    "\n",
    "outliers_Ram  = Ramicane.loc[(Ramicane[\"Tumor Volume (mm3)\"] > upper_Ram ) | (Ramicane[\"Tumor Volume (mm3)\"] < lower_Ram), [\"Mouse ID\",\"Tumor Volume (mm3)\"]]\n",
    "print(\"-------------Outliers-------------\")\n",
    "print(outliers_Ram)"
   ]
  },
  {
   "cell_type": "markdown",
   "metadata": {},
   "source": [
    "Quartiles and IQR and potential outliers for Infubinol"
   ]
  },
  {
   "cell_type": "code",
   "execution_count": 17,
   "metadata": {},
   "outputs": [
    {
     "name": "stdout",
     "output_type": "stream",
     "text": [
      "Lower quartile :62.75\n",
      "Median :66.08\n",
      "Upper quartile :67.69\n",
      "Interquartile :4.94\n",
      "\n",
      "--Outliers checker for Infubinol--\n",
      "Upper_boundary: 72.63\n",
      "Max value: 72.23\n",
      "Lower_boundary: 57.81\n",
      "Min value: 60.92\n",
      "--------------Outliers--------------\n",
      "Empty DataFrame\n",
      "Columns: [Mouse ID, Tumor Volume (mm3)]\n",
      "Index: []\n",
      "No outliers\n"
     ]
    }
   ],
   "source": [
    "# quartiles and IQR and potential outliers for Infubinol\n",
    "first_Q_Inf = round(Infubinol_Q[0],2)\n",
    "second_Q_Inf  = round(Infubinol_Q[1],2)\n",
    "third_Q_Inf  = round(Infubinol_Q[2],2)\n",
    "IQR_Inf  = round(third_Q_Inf  - first_Q_Inf,2) \n",
    "upper_Inf  = round((third_Q_Inf  + IQR_Inf ),2)\n",
    "lower_Inf  = round((first_Q_Inf  - IQR_Inf ),2)\n",
    "\n",
    "max_Inf  = round(Infubinol[\"Tumor Volume (mm3)\"].max(),2)\n",
    "min_Inf  = round(Infubinol[\"Tumor Volume (mm3)\"].min(),2)\n",
    "\n",
    "print(\"Lower quartile :\"+ str(first_Q_Inf))\n",
    "print(\"Median :\"+ str(second_Q_Inf))\n",
    "print(\"Upper quartile :\"+ str(third_Q_Inf))\n",
    "print(\"Interquartile :\"+ str(IQR_Inf))\n",
    "\n",
    "print(\"\\n--Outliers checker for Infubinol--\")\n",
    "print(\"Upper_boundary: \" + str(upper_Inf))\n",
    "print(\"Max value: \" + str(max_Inf))\n",
    "print(\"Lower_boundary: \" + str(lower_Inf ))\n",
    "print(\"Min value: \" + str(min_Inf ))\n",
    "\n",
    "outliers_Inf  = Infubinol.loc[(Infubinol[\"Tumor Volume (mm3)\"] > upper_Inf ) | (Infubinol[\"Tumor Volume (mm3)\"] < lower_Inf), [\"Mouse ID\",\"Tumor Volume (mm3)\"]]\n",
    "print(\"--------------Outliers--------------\")\n",
    "print(outliers_Inf)\n",
    "print(\"No outliers\")"
   ]
  },
  {
   "cell_type": "markdown",
   "metadata": {},
   "source": [
    " Quartiles and IQR and potential outliers for Ceftamin"
   ]
  },
  {
   "cell_type": "code",
   "execution_count": 18,
   "metadata": {},
   "outputs": [
    {
     "name": "stdout",
     "output_type": "stream",
     "text": [
      "Lower quartile :61.43\n",
      "Median :64.3\n",
      "Upper quartile :67.53\n",
      "Interquartile :6.1\n",
      "\n",
      "---Outliers checker for Ceftamin---\n",
      "Upper_boundary: 73.63\n",
      "Max value: 68.92\n",
      "Lower_boundary: 55.33\n",
      "Min value: 59.74\n",
      "-----------Outliers------------\n",
      "Empty DataFrame\n",
      "Columns: [Mouse ID, Tumor Volume (mm3)]\n",
      "Index: []\n",
      "No outliers\n"
     ]
    }
   ],
   "source": [
    "# quartiles and IQR and potential outliers for Ceftamin\n",
    "first_Q_Cef = round(Ceftamin_Q[0],2)\n",
    "second_Q_Cef  = round(Ceftamin_Q[1],2)\n",
    "third_Q_Cef  = round(Ceftamin_Q[2],2)\n",
    "IQR_Cef  = round(third_Q_Cef  - first_Q_Cef,2) \n",
    "upper_Cef  = round((third_Q_Cef  + IQR_Cef ),2)\n",
    "lower_Cef  = round((first_Q_Cef  - IQR_Cef ),2)\n",
    "\n",
    "max_Cef  = round(Ceftamin[\"Tumor Volume (mm3)\"].max(),2)\n",
    "min_Cef  = round(Ceftamin[\"Tumor Volume (mm3)\"].min(),2)\n",
    "\n",
    "print(\"Lower quartile :\"+ str(first_Q_Cef))\n",
    "print(\"Median :\"+ str(second_Q_Cef))\n",
    "print(\"Upper quartile :\"+ str(third_Q_Cef))\n",
    "print(\"Interquartile :\"+ str(IQR_Cef))\n",
    "\n",
    "print(\"\\n---Outliers checker for Ceftamin---\")\n",
    "print(\"Upper_boundary: \" + str(upper_Cef ))\n",
    "print(\"Max value: \" + str(max_Cef ))\n",
    "print(\"Lower_boundary: \" + str(lower_Cef ))\n",
    "print(\"Min value: \" + str(min_Cef ))\n",
    "\n",
    "outliers_Cef  = Ceftamin.loc[(Ceftamin[\"Tumor Volume (mm3)\"] > upper_Cef ) | (Ceftamin[\"Tumor Volume (mm3)\"] < lower_Cef), [\"Mouse ID\",\"Tumor Volume (mm3)\"]]\n",
    "print(\"-----------Outliers------------\")\n",
    "print(outliers_Cef)\n",
    "print(\"No outliers\")"
   ]
  },
  {
   "cell_type": "markdown",
   "metadata": {},
   "source": [
    "Box plot for 4 drugs"
   ]
  },
  {
   "cell_type": "code",
   "execution_count": 19,
   "metadata": {},
   "outputs": [
    {
     "data": {
      "image/png": "[encoded data removed]",
      "text/plain": [
       "<Figure size 432x504 with 1 Axes>"
      ]
     },
     "metadata": {
      "needs_background": "light"
     },
     "output_type": "display_data"
    }
   ],
   "source": [
    "Cap =Capomulin[\"Tumor Volume (mm3)\"]\n",
    "Ram =Ramicane[\"Tumor Volume (mm3)\"]\n",
    "Inf =Infubinol[\"Tumor Volume (mm3)\"]\n",
    "Cef =Ceftamin[\"Tumor Volume (mm3)\"]\n",
    "\n",
    "#pass a list of data arrays to boxplot\n",
    "plt.figure(figsize=(6,7))\n",
    "plt.boxplot([Cap,Ram,Inf, Cef])\n",
    "\n",
    "x_axis = [\"Capomulin\", \"Ramicanem\", \"Infubinol\", \"Ceftamin\"]\n",
    "plt.xticks([1,2,3,4], x_axis)\n",
    "plt.ylabel(\"Tumor Volume (mm3)\")\n",
    "plt.xlabel(\"Drugs\")\n",
    "plt.title(\"Final Tumor volume for Drugs\", fontsize =13)\n",
    "plt.show()"
   ]
  },
  {
   "cell_type": "code",
   "execution_count": null,
   "metadata": {},
   "outputs": [],
   "source": []
  },
  {
   "cell_type": "markdown",
   "metadata": {},
   "source": [
    "## Line and Scatter Plots"
   ]
  },
  {
   "cell_type": "code",
   "execution_count": 20,
   "metadata": {},
   "outputs": [
    {
     "name": "stdout",
     "output_type": "stream",
     "text": [
      "Select a mouse from the list: ss\n"
     ]
    }
   ],
   "source": [
    "#mouse = input(\"Select a mouse from the list: \")"
   ]
  },
  {
   "cell_type": "code",
   "execution_count": 21,
   "metadata": {
    "scrolled": true
   },
   "outputs": [],
   "source": [
    "# Generate a line plot of time point versus tumor volume for a mouse treated with Capomulin\n",
    "Capomulin_df = combined_clean_df.loc[combined_clean_df[\"Drug Regimen\"]==\"Capomulin\"]\n",
    "x_axis = Capomulin_df[\"Timepoint\"].unique()\n",
    "aMouse = Capomulin_df.loc[Capomulin_df[\"Mouse ID\"]== 's185', [\"Tumor Volume (mm3)\"]]\n",
    "\n",
    "mouseList=['s185' 'x401' 'm601' 'f966' 'u364' 'y793' 'r554' 'm957' 't565' 'i738'\n",
    " 'w914' 'g288' 'l897' 'b742' 'b128' 'j246' 'j119' 'w150' 'v923' 'g316'\n",
    " 's710' 'l509' 'r944' 'i557' 'r157']"
   ]
  },
  {
   "cell_type": "code",
   "execution_count": 65,
   "metadata": {},
   "outputs": [
    {
     "data": {
      "image/png": "[encoded data removed]",
      "text/plain": [
       "<Figure size 576x360 with 1 Axes>"
      ]
     },
     "metadata": {
      "needs_background": "light"
     },
     "output_type": "display_data"
    }
   ],
   "source": [
    "\n",
    "plt.figure(figsize=(8,5))\n",
    "\n",
    "plt.plot(x_axis, aMouse, color ='r', marker = \"d\")\n",
    "plt.xticks(x_axis)\n",
    "plt.title(\"Tumor Volume as time goes\", fontsize =14, color= 'blue')\n",
    "plt.xlabel(\"Time point\")\n",
    "plt.ylabel(\"Tumor volume (mm3)\")\n",
    "plt.grid(alpha=0.3)\n",
    "plt.show()"
   ]
  },
  {
   "cell_type": "code",
   "execution_count": 46,
   "metadata": {},
   "outputs": [
    {
     "data": {
      "text/html": [
       "<div>\n",
       "<style scoped>\n",
       "    .dataframe tbody tr th:only-of-type {\n",
       "        vertical-align: middle;\n",
       "    }\n",
       "\n",
       "    .dataframe tbody tr th {\n",
       "        vertical-align: top;\n",
       "    }\n",
       "\n",
       "    .dataframe thead th {\n",
       "        text-align: right;\n",
       "    }\n",
       "</style>\n",
       "<table border=\"1\" class=\"dataframe\">\n",
       "  <thead>\n",
       "    <tr style=\"text-align: right;\">\n",
       "      <th></th>\n",
       "      <th>Age_months</th>\n",
       "      <th>Timepoint</th>\n",
       "      <th>Tumor Volume (mm3)</th>\n",
       "      <th>Metastatic Sites</th>\n",
       "    </tr>\n",
       "    <tr>\n",
       "      <th>Weight (g)</th>\n",
       "      <th></th>\n",
       "      <th></th>\n",
       "      <th></th>\n",
       "      <th></th>\n",
       "    </tr>\n",
       "  </thead>\n",
       "  <tbody>\n",
       "    <tr>\n",
       "      <th>15</th>\n",
       "      <td>16.000000</td>\n",
       "      <td>22.500000</td>\n",
       "      <td>36.182040</td>\n",
       "      <td>0.000000</td>\n",
       "    </tr>\n",
       "    <tr>\n",
       "      <th>17</th>\n",
       "      <td>14.769231</td>\n",
       "      <td>21.538462</td>\n",
       "      <td>37.214133</td>\n",
       "      <td>1.030769</td>\n",
       "    </tr>\n",
       "    <tr>\n",
       "      <th>19</th>\n",
       "      <td>7.666667</td>\n",
       "      <td>22.500000</td>\n",
       "      <td>41.182391</td>\n",
       "      <td>0.700000</td>\n",
       "    </tr>\n",
       "    <tr>\n",
       "      <th>20</th>\n",
       "      <td>23.000000</td>\n",
       "      <td>22.500000</td>\n",
       "      <td>39.141053</td>\n",
       "      <td>0.600000</td>\n",
       "    </tr>\n",
       "    <tr>\n",
       "      <th>21</th>\n",
       "      <td>17.458333</td>\n",
       "      <td>21.666667</td>\n",
       "      <td>42.088700</td>\n",
       "      <td>0.625000</td>\n",
       "    </tr>\n",
       "    <tr>\n",
       "      <th>22</th>\n",
       "      <td>15.500000</td>\n",
       "      <td>22.500000</td>\n",
       "      <td>43.288490</td>\n",
       "      <td>0.850000</td>\n",
       "    </tr>\n",
       "    <tr>\n",
       "      <th>23</th>\n",
       "      <td>6.478261</td>\n",
       "      <td>20.217391</td>\n",
       "      <td>43.341051</td>\n",
       "      <td>0.521739</td>\n",
       "    </tr>\n",
       "    <tr>\n",
       "      <th>24</th>\n",
       "      <td>1.000000</td>\n",
       "      <td>22.500000</td>\n",
       "      <td>44.805810</td>\n",
       "      <td>0.200000</td>\n",
       "    </tr>\n",
       "    <tr>\n",
       "      <th>25</th>\n",
       "      <td>14.857143</td>\n",
       "      <td>18.214286</td>\n",
       "      <td>44.062109</td>\n",
       "      <td>0.642857</td>\n",
       "    </tr>\n",
       "  </tbody>\n",
       "</table>\n",
       "</div>"
      ],
      "text/plain": [
       "            Age_months  Timepoint  Tumor Volume (mm3)  Metastatic Sites\n",
       "Weight (g)                                                             \n",
       "15           16.000000  22.500000           36.182040          0.000000\n",
       "17           14.769231  21.538462           37.214133          1.030769\n",
       "19            7.666667  22.500000           41.182391          0.700000\n",
       "20           23.000000  22.500000           39.141053          0.600000\n",
       "21           17.458333  21.666667           42.088700          0.625000\n",
       "22           15.500000  22.500000           43.288490          0.850000\n",
       "23            6.478261  20.217391           43.341051          0.521739\n",
       "24            1.000000  22.500000           44.805810          0.200000\n",
       "25           14.857143  18.214286           44.062109          0.642857"
      ]
     },
     "execution_count": 46,
     "metadata": {},
     "output_type": "execute_result"
    }
   ],
   "source": [
    "Capomulin_df.head()\n",
    "avgTumorVol = Capomulin_df.groupby(\"Weight (g)\").mean()\n",
    "avgTumorVol"
   ]
  },
  {
   "cell_type": "code",
   "execution_count": 64,
   "metadata": {},
   "outputs": [
    {
     "data": {
      "image/png": "[encoded data removed]",
      "text/plain": [
       "<Figure size 576x360 with 1 Axes>"
      ]
     },
     "metadata": {
      "needs_background": "light"
     },
     "output_type": "display_data"
    }
   ],
   "source": [
    "\n",
    "plt.figure(figsize=(8,5))\n",
    "plt.scatter(avgTumorVol.index,avgTumorVol[\"Tumor Volume (mm3)\"],facecolors=\"red\", edgecolors=\"black\")\n",
    "\n",
    "plt.title(\"Mouse Weight vs Tumor volume\", fontsize =14, color ='red')\n",
    "#plt.xticks(avgTumorVol.index)\n",
    "plt.xticks([15,16,17,18,19,20,21,22,23,24,25])\n",
    "plt.grid(alpha=0.3)\n",
    "plt.xlabel('Mouse Weight')\n",
    "plt.ylabel('Average Tumor volume (mm3)')\n",
    "plt.show()"
   ]
  },
  {
   "cell_type": "markdown",
   "metadata": {},
   "source": [
    "## Correlation and Regression"
   ]
  },
  {
   "cell_type": "code",
   "execution_count": 44,
   "metadata": {},
   "outputs": [
    {
     "data": {
      "text/plain": [
       "(0.5256995552077165, 9.605446629502825e-18)"
      ]
     },
     "execution_count": 44,
     "metadata": {},
     "output_type": "execute_result"
    }
   ],
   "source": [
    "# Calculate the correlation coefficient and linear regression model \n",
    "# for mouse weight and average tumor volume for the Capomulin regimen\n",
    "correlation = st.pearsonr(weight, tumor)\n",
    "correlation "
   ]
  },
  {
   "cell_type": "code",
   "execution_count": null,
   "metadata": {},
   "outputs": [],
   "source": []
  }
 ],
 "metadata": {
  "anaconda-cloud": {},
  "kernelspec": {
   "display_name": "Python 3",
   "language": "python",
   "name": "python3"
  },
  "language_info": {
   "codemirror_mode": {
    "name": "ipython",
    "version": 3
   },
   "file_extension": ".py",
   "mimetype": "text/x-python",
   "name": "python",
   "nbconvert_exporter": "python",
   "pygments_lexer": "ipython3",
   "version": "3.7.6"
  },
  "toc": {
   "base_numbering": 1,
   "nav_menu": {},
   "number_sections": true,
   "sideBar": true,
   "skip_h1_title": false,
   "title_cell": "Table of Contents",
   "title_sidebar": "Contents",
   "toc_cell": false,
   "toc_position": {
    "height": "calc(100% - 180px)",
    "left": "10px",
    "top": "150px",
    "width": "165px"
   },
   "toc_section_display": true,
   "toc_window_display": false
  }
 },
 "nbformat": 4,
 "nbformat_minor": 2
}
